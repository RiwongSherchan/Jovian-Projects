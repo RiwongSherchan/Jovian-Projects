{
 "cells": [
  {
   "cell_type": "markdown",
   "metadata": {},
   "source": [
    "# Exploratory-DataAnalysis On Top American Colleges"
   ]
  },
  {
   "cell_type": "markdown",
   "metadata": {
    "heading_collapsed": true
   },
   "source": [
    "## Introduction"
   ]
  },
  {
   "cell_type": "markdown",
   "metadata": {
    "hidden": true
   },
   "source": [
    "here we set the url link for downloading of CSV file. "
   ]
  },
  {
   "cell_type": "code",
   "execution_count": 1,
   "metadata": {
    "hidden": true
   },
   "outputs": [],
   "source": [
    "dataset_url = 'https://www.kaggle.com/datasets/kabhishm/top-american-colleges-2022'"
   ]
  },
  {
   "cell_type": "markdown",
   "metadata": {
    "hidden": true
   },
   "source": [
    "here we install opendatasets"
   ]
  },
  {
   "cell_type": "code",
   "execution_count": 2,
   "metadata": {
    "hidden": true
   },
   "outputs": [
    {
     "name": "stdout",
     "output_type": "stream",
     "text": [
      "Requirement already satisfied: opendatasets in e:\\anaconda_all\\anaconda_kit\\lib\\site-packages (0.1.22)\n",
      "Requirement already satisfied: kaggle in e:\\anaconda_all\\anaconda_kit\\lib\\site-packages (from opendatasets) (1.5.12)\n",
      "Requirement already satisfied: click in e:\\anaconda_all\\anaconda_kit\\lib\\site-packages (from opendatasets) (8.0.4)\n",
      "Requirement already satisfied: tqdm in e:\\anaconda_all\\anaconda_kit\\lib\\site-packages (from opendatasets) (4.64.1)\n",
      "Requirement already satisfied: colorama in e:\\anaconda_all\\anaconda_kit\\lib\\site-packages (from click->opendatasets) (0.4.5)\n",
      "Requirement already satisfied: requests in e:\\anaconda_all\\anaconda_kit\\lib\\site-packages (from kaggle->opendatasets) (2.28.1)\n",
      "Requirement already satisfied: python-slugify in e:\\anaconda_all\\anaconda_kit\\lib\\site-packages (from kaggle->opendatasets) (5.0.2)\n",
      "Requirement already satisfied: six>=1.10 in e:\\anaconda_all\\anaconda_kit\\lib\\site-packages (from kaggle->opendatasets) (1.16.0)\n",
      "Requirement already satisfied: urllib3 in e:\\anaconda_all\\anaconda_kit\\lib\\site-packages (from kaggle->opendatasets) (1.26.11)\n",
      "Requirement already satisfied: certifi in e:\\anaconda_all\\anaconda_kit\\lib\\site-packages (from kaggle->opendatasets) (2022.9.14)\n",
      "Requirement already satisfied: python-dateutil in e:\\anaconda_all\\anaconda_kit\\lib\\site-packages (from kaggle->opendatasets) (2.8.2)\n",
      "Requirement already satisfied: text-unidecode>=1.3 in e:\\anaconda_all\\anaconda_kit\\lib\\site-packages (from python-slugify->kaggle->opendatasets) (1.3)\n",
      "Requirement already satisfied: charset-normalizer<3,>=2 in e:\\anaconda_all\\anaconda_kit\\lib\\site-packages (from requests->kaggle->opendatasets) (2.0.4)\n",
      "Requirement already satisfied: idna<4,>=2.5 in e:\\anaconda_all\\anaconda_kit\\lib\\site-packages (from requests->kaggle->opendatasets) (3.3)\n",
      "Note: you may need to restart the kernel to use updated packages.\n"
     ]
    }
   ],
   "source": [
    "pip install opendatasets"
   ]
  },
  {
   "cell_type": "markdown",
   "metadata": {
    "hidden": true
   },
   "source": [
    "here we start the download of our CSV file from kaggle dataset"
   ]
  },
  {
   "cell_type": "code",
   "execution_count": 3,
   "metadata": {
    "hidden": true,
    "scrolled": false
   },
   "outputs": [
    {
     "name": "stdout",
     "output_type": "stream",
     "text": [
      "Skipping, found downloaded files in \".\\top-american-colleges-2022\" (use force=True to force download)\n"
     ]
    }
   ],
   "source": [
    "import opendatasets as od\n",
    "od.download(dataset_url)"
   ]
  },
  {
   "cell_type": "code",
   "execution_count": 4,
   "metadata": {
    "hidden": true
   },
   "outputs": [],
   "source": [
    "data_dir = './top-american-colleges-2022'"
   ]
  },
  {
   "cell_type": "code",
   "execution_count": 5,
   "metadata": {
    "hidden": true
   },
   "outputs": [],
   "source": [
    "import os"
   ]
  },
  {
   "cell_type": "code",
   "execution_count": 6,
   "metadata": {
    "hidden": true,
    "scrolled": true
   },
   "outputs": [
    {
     "data": {
      "text/plain": [
       "['top_colleges_2022.csv']"
      ]
     },
     "execution_count": 6,
     "metadata": {},
     "output_type": "execute_result"
    }
   ],
   "source": [
    "os.listdir('top-american-colleges-2022')"
   ]
  },
  {
   "cell_type": "code",
   "execution_count": 7,
   "metadata": {
    "hidden": true
   },
   "outputs": [],
   "source": [
    "import pandas as pd"
   ]
  },
  {
   "cell_type": "code",
   "execution_count": 8,
   "metadata": {
    "hidden": true
   },
   "outputs": [],
   "source": [
    "survey_raw_df = pd.read_csv('top-american-colleges-2022/top_colleges_2022.csv')"
   ]
  },
  {
   "cell_type": "code",
   "execution_count": 9,
   "metadata": {
    "hidden": true
   },
   "outputs": [
    {
     "data": {
      "text/html": [
       "<div>\n",
       "<style scoped>\n",
       "    .dataframe tbody tr th:only-of-type {\n",
       "        vertical-align: middle;\n",
       "    }\n",
       "\n",
       "    .dataframe tbody tr th {\n",
       "        vertical-align: top;\n",
       "    }\n",
       "\n",
       "    .dataframe thead th {\n",
       "        text-align: right;\n",
       "    }\n",
       "</style>\n",
       "<table border=\"1\" class=\"dataframe\">\n",
       "  <thead>\n",
       "    <tr style=\"text-align: right;\">\n",
       "      <th></th>\n",
       "      <th>description</th>\n",
       "      <th>rank</th>\n",
       "      <th>organizationName</th>\n",
       "      <th>state</th>\n",
       "      <th>studentPopulation</th>\n",
       "      <th>campusSetting</th>\n",
       "      <th>medianBaseSalary</th>\n",
       "      <th>longitude</th>\n",
       "      <th>latitude</th>\n",
       "      <th>website</th>\n",
       "      <th>...</th>\n",
       "      <th>yearFounded</th>\n",
       "      <th>stateCode</th>\n",
       "      <th>collegeType</th>\n",
       "      <th>carnegieClassification</th>\n",
       "      <th>studentFacultyRatio</th>\n",
       "      <th>totalStudentPop</th>\n",
       "      <th>undergradPop</th>\n",
       "      <th>totalGrantAid</th>\n",
       "      <th>percentOfStudentsFinAid</th>\n",
       "      <th>percentOfStudentsGrant</th>\n",
       "    </tr>\n",
       "  </thead>\n",
       "  <tbody>\n",
       "    <tr>\n",
       "      <th>0</th>\n",
       "      <td>A leading global research university, MIT attr...</td>\n",
       "      <td>1</td>\n",
       "      <td>Massachusetts Institute of Technology</td>\n",
       "      <td>MA</td>\n",
       "      <td>12195</td>\n",
       "      <td>Urban</td>\n",
       "      <td>173700.0</td>\n",
       "      <td>-71.093539</td>\n",
       "      <td>42.359006</td>\n",
       "      <td>http://web.mit.edu</td>\n",
       "      <td>...</td>\n",
       "      <td>1861.0</td>\n",
       "      <td>MA</td>\n",
       "      <td>Private not-for-profit</td>\n",
       "      <td>Doctoral Universities: Very High Research Acti...</td>\n",
       "      <td>3</td>\n",
       "      <td>12195</td>\n",
       "      <td>4582</td>\n",
       "      <td>35299332.0</td>\n",
       "      <td>75.0</td>\n",
       "      <td>60.0</td>\n",
       "    </tr>\n",
       "    <tr>\n",
       "      <th>1</th>\n",
       "      <td>Stanford University sits just outside of Palo ...</td>\n",
       "      <td>2</td>\n",
       "      <td>Stanford University</td>\n",
       "      <td>CA</td>\n",
       "      <td>20961</td>\n",
       "      <td>Suburban</td>\n",
       "      <td>173500.0</td>\n",
       "      <td>-122.168924</td>\n",
       "      <td>37.431370</td>\n",
       "      <td>http://www.stanford.edu</td>\n",
       "      <td>...</td>\n",
       "      <td>1891.0</td>\n",
       "      <td>CA</td>\n",
       "      <td>Private not-for-profit</td>\n",
       "      <td>Doctoral Universities: Very High Research Acti...</td>\n",
       "      <td>4</td>\n",
       "      <td>20961</td>\n",
       "      <td>8464</td>\n",
       "      <td>51328461.0</td>\n",
       "      <td>70.0</td>\n",
       "      <td>55.0</td>\n",
       "    </tr>\n",
       "    <tr>\n",
       "      <th>2</th>\n",
       "      <td>One of the top public universities in the coun...</td>\n",
       "      <td>2</td>\n",
       "      <td>University of California, Berkeley</td>\n",
       "      <td>CA</td>\n",
       "      <td>45878</td>\n",
       "      <td>Urban</td>\n",
       "      <td>154500.0</td>\n",
       "      <td>-122.258393</td>\n",
       "      <td>37.869236</td>\n",
       "      <td>http://www.berkeley.edu</td>\n",
       "      <td>...</td>\n",
       "      <td>1868.0</td>\n",
       "      <td>CA</td>\n",
       "      <td>Public</td>\n",
       "      <td>Doctoral Universities: Very High Research Acti...</td>\n",
       "      <td>19</td>\n",
       "      <td>45878</td>\n",
       "      <td>33208</td>\n",
       "      <td>64495611.0</td>\n",
       "      <td>63.0</td>\n",
       "      <td>53.0</td>\n",
       "    </tr>\n",
       "    <tr>\n",
       "      <th>3</th>\n",
       "      <td>Princeton is a leading private research univer...</td>\n",
       "      <td>4</td>\n",
       "      <td>Princeton University</td>\n",
       "      <td>NJ</td>\n",
       "      <td>8532</td>\n",
       "      <td>Urban</td>\n",
       "      <td>167600.0</td>\n",
       "      <td>-74.659119</td>\n",
       "      <td>40.349855</td>\n",
       "      <td>http://www.princeton.edu</td>\n",
       "      <td>...</td>\n",
       "      <td>1746.0</td>\n",
       "      <td>NJ</td>\n",
       "      <td>Private not-for-profit</td>\n",
       "      <td>Doctoral Universities: Very High Research Acti...</td>\n",
       "      <td>4</td>\n",
       "      <td>8532</td>\n",
       "      <td>5516</td>\n",
       "      <td>44871096.0</td>\n",
       "      <td>62.0</td>\n",
       "      <td>61.0</td>\n",
       "    </tr>\n",
       "    <tr>\n",
       "      <th>4</th>\n",
       "      <td>Located in upper Manhattan, Columbia Universit...</td>\n",
       "      <td>5</td>\n",
       "      <td>Columbia University</td>\n",
       "      <td>NY</td>\n",
       "      <td>33882</td>\n",
       "      <td>Urban</td>\n",
       "      <td>148800.0</td>\n",
       "      <td>-73.961288</td>\n",
       "      <td>40.806515</td>\n",
       "      <td>http://www.columbia.edu</td>\n",
       "      <td>...</td>\n",
       "      <td>1754.0</td>\n",
       "      <td>NY</td>\n",
       "      <td>Private not-for-profit</td>\n",
       "      <td>Doctoral Universities: Very High Research Acti...</td>\n",
       "      <td>6</td>\n",
       "      <td>33882</td>\n",
       "      <td>8689</td>\n",
       "      <td>44615007.0</td>\n",
       "      <td>58.0</td>\n",
       "      <td>54.0</td>\n",
       "    </tr>\n",
       "    <tr>\n",
       "      <th>...</th>\n",
       "      <td>...</td>\n",
       "      <td>...</td>\n",
       "      <td>...</td>\n",
       "      <td>...</td>\n",
       "      <td>...</td>\n",
       "      <td>...</td>\n",
       "      <td>...</td>\n",
       "      <td>...</td>\n",
       "      <td>...</td>\n",
       "      <td>...</td>\n",
       "      <td>...</td>\n",
       "      <td>...</td>\n",
       "      <td>...</td>\n",
       "      <td>...</td>\n",
       "      <td>...</td>\n",
       "      <td>...</td>\n",
       "      <td>...</td>\n",
       "      <td>...</td>\n",
       "      <td>...</td>\n",
       "      <td>...</td>\n",
       "      <td>...</td>\n",
       "    </tr>\n",
       "    <tr>\n",
       "      <th>493</th>\n",
       "      <td>St. Joseph’s College is a private institution ...</td>\n",
       "      <td>494</td>\n",
       "      <td>St. Joseph's College (NY)</td>\n",
       "      <td>NY</td>\n",
       "      <td>5901</td>\n",
       "      <td>Urban</td>\n",
       "      <td>100900.0</td>\n",
       "      <td>-73.968304</td>\n",
       "      <td>40.690548</td>\n",
       "      <td>http://www.sjcny.edu</td>\n",
       "      <td>...</td>\n",
       "      <td>1916.0</td>\n",
       "      <td>NY</td>\n",
       "      <td>Private not-for-profit</td>\n",
       "      <td>Master's Colleges &amp; Universities: Medium Programs</td>\n",
       "      <td>12</td>\n",
       "      <td>5901</td>\n",
       "      <td>4429</td>\n",
       "      <td>11919881.0</td>\n",
       "      <td>99.0</td>\n",
       "      <td>99.0</td>\n",
       "    </tr>\n",
       "    <tr>\n",
       "      <th>494</th>\n",
       "      <td>A liberal arts college founded by the Moravian...</td>\n",
       "      <td>495</td>\n",
       "      <td>Moravian University</td>\n",
       "      <td>PA</td>\n",
       "      <td>2961</td>\n",
       "      <td>Urban</td>\n",
       "      <td>109800.0</td>\n",
       "      <td>-75.381596</td>\n",
       "      <td>40.630303</td>\n",
       "      <td>http://www.moravian.edu</td>\n",
       "      <td>...</td>\n",
       "      <td>1742.0</td>\n",
       "      <td>PA</td>\n",
       "      <td>Private not-for-profit</td>\n",
       "      <td>Baccalaureate Colleges: Arts &amp; Sciences Focus</td>\n",
       "      <td>11</td>\n",
       "      <td>2961</td>\n",
       "      <td>2268</td>\n",
       "      <td>12685943.0</td>\n",
       "      <td>100.0</td>\n",
       "      <td>100.0</td>\n",
       "    </tr>\n",
       "    <tr>\n",
       "      <th>495</th>\n",
       "      <td>Lawrence Technological University in Southfiel...</td>\n",
       "      <td>496</td>\n",
       "      <td>Lawrence Technological University</td>\n",
       "      <td>MI</td>\n",
       "      <td>3163</td>\n",
       "      <td>Urban</td>\n",
       "      <td>119900.0</td>\n",
       "      <td>-83.278458</td>\n",
       "      <td>42.450606</td>\n",
       "      <td>http://https://www.ltu.edu</td>\n",
       "      <td>...</td>\n",
       "      <td>NaN</td>\n",
       "      <td>MI</td>\n",
       "      <td>Private not-for-profit</td>\n",
       "      <td>Master's Colleges &amp; Universities: Larger Programs</td>\n",
       "      <td>11</td>\n",
       "      <td>3163</td>\n",
       "      <td>2286</td>\n",
       "      <td>5639254.0</td>\n",
       "      <td>97.0</td>\n",
       "      <td>96.0</td>\n",
       "    </tr>\n",
       "    <tr>\n",
       "      <th>496</th>\n",
       "      <td>Saint Martin’s University in Lacey, WA, one of...</td>\n",
       "      <td>497</td>\n",
       "      <td>Saint Martin's University</td>\n",
       "      <td>WA</td>\n",
       "      <td>1980</td>\n",
       "      <td>Urban</td>\n",
       "      <td>102100.0</td>\n",
       "      <td>NaN</td>\n",
       "      <td>NaN</td>\n",
       "      <td>NaN</td>\n",
       "      <td>...</td>\n",
       "      <td>NaN</td>\n",
       "      <td>WA</td>\n",
       "      <td>Private not-for-profit</td>\n",
       "      <td>Master's Colleges &amp; Universities: Medium Programs</td>\n",
       "      <td>12</td>\n",
       "      <td>1980</td>\n",
       "      <td>1644</td>\n",
       "      <td>9759540.0</td>\n",
       "      <td>99.0</td>\n",
       "      <td>99.0</td>\n",
       "    </tr>\n",
       "    <tr>\n",
       "      <th>497</th>\n",
       "      <td>The University of Memphis is a large public re...</td>\n",
       "      <td>498</td>\n",
       "      <td>University of Memphis</td>\n",
       "      <td>TN</td>\n",
       "      <td>25128</td>\n",
       "      <td>Urban</td>\n",
       "      <td>90700.0</td>\n",
       "      <td>-89.939618</td>\n",
       "      <td>35.118453</td>\n",
       "      <td>http://www.mephis.edu</td>\n",
       "      <td>...</td>\n",
       "      <td>1912.0</td>\n",
       "      <td>TN</td>\n",
       "      <td>Public</td>\n",
       "      <td>Doctoral Universities: High Research Activity</td>\n",
       "      <td>16</td>\n",
       "      <td>25128</td>\n",
       "      <td>20011</td>\n",
       "      <td>27575189.0</td>\n",
       "      <td>98.0</td>\n",
       "      <td>97.0</td>\n",
       "    </tr>\n",
       "  </tbody>\n",
       "</table>\n",
       "<p>498 rows × 25 columns</p>\n",
       "</div>"
      ],
      "text/plain": [
       "                                           description  rank  \\\n",
       "0    A leading global research university, MIT attr...     1   \n",
       "1    Stanford University sits just outside of Palo ...     2   \n",
       "2    One of the top public universities in the coun...     2   \n",
       "3    Princeton is a leading private research univer...     4   \n",
       "4    Located in upper Manhattan, Columbia Universit...     5   \n",
       "..                                                 ...   ...   \n",
       "493  St. Joseph’s College is a private institution ...   494   \n",
       "494  A liberal arts college founded by the Moravian...   495   \n",
       "495  Lawrence Technological University in Southfiel...   496   \n",
       "496  Saint Martin’s University in Lacey, WA, one of...   497   \n",
       "497  The University of Memphis is a large public re...   498   \n",
       "\n",
       "                          organizationName state  studentPopulation  \\\n",
       "0    Massachusetts Institute of Technology    MA              12195   \n",
       "1                      Stanford University    CA              20961   \n",
       "2       University of California, Berkeley    CA              45878   \n",
       "3                     Princeton University    NJ               8532   \n",
       "4                      Columbia University    NY              33882   \n",
       "..                                     ...   ...                ...   \n",
       "493              St. Joseph's College (NY)    NY               5901   \n",
       "494                    Moravian University    PA               2961   \n",
       "495      Lawrence Technological University    MI               3163   \n",
       "496              Saint Martin's University    WA               1980   \n",
       "497                  University of Memphis    TN              25128   \n",
       "\n",
       "    campusSetting  medianBaseSalary   longitude   latitude  \\\n",
       "0           Urban          173700.0  -71.093539  42.359006   \n",
       "1        Suburban          173500.0 -122.168924  37.431370   \n",
       "2           Urban          154500.0 -122.258393  37.869236   \n",
       "3           Urban          167600.0  -74.659119  40.349855   \n",
       "4           Urban          148800.0  -73.961288  40.806515   \n",
       "..            ...               ...         ...        ...   \n",
       "493         Urban          100900.0  -73.968304  40.690548   \n",
       "494         Urban          109800.0  -75.381596  40.630303   \n",
       "495         Urban          119900.0  -83.278458  42.450606   \n",
       "496         Urban          102100.0         NaN        NaN   \n",
       "497         Urban           90700.0  -89.939618  35.118453   \n",
       "\n",
       "                        website  ... yearFounded stateCode  \\\n",
       "0            http://web.mit.edu  ...      1861.0        MA   \n",
       "1       http://www.stanford.edu  ...      1891.0        CA   \n",
       "2       http://www.berkeley.edu  ...      1868.0        CA   \n",
       "3      http://www.princeton.edu  ...      1746.0        NJ   \n",
       "4       http://www.columbia.edu  ...      1754.0        NY   \n",
       "..                          ...  ...         ...       ...   \n",
       "493        http://www.sjcny.edu  ...      1916.0        NY   \n",
       "494     http://www.moravian.edu  ...      1742.0        PA   \n",
       "495  http://https://www.ltu.edu  ...         NaN        MI   \n",
       "496                         NaN  ...         NaN        WA   \n",
       "497       http://www.mephis.edu  ...      1912.0        TN   \n",
       "\n",
       "                collegeType  \\\n",
       "0    Private not-for-profit   \n",
       "1    Private not-for-profit   \n",
       "2                    Public   \n",
       "3    Private not-for-profit   \n",
       "4    Private not-for-profit   \n",
       "..                      ...   \n",
       "493  Private not-for-profit   \n",
       "494  Private not-for-profit   \n",
       "495  Private not-for-profit   \n",
       "496  Private not-for-profit   \n",
       "497                  Public   \n",
       "\n",
       "                                carnegieClassification studentFacultyRatio  \\\n",
       "0    Doctoral Universities: Very High Research Acti...                   3   \n",
       "1    Doctoral Universities: Very High Research Acti...                   4   \n",
       "2    Doctoral Universities: Very High Research Acti...                  19   \n",
       "3    Doctoral Universities: Very High Research Acti...                   4   \n",
       "4    Doctoral Universities: Very High Research Acti...                   6   \n",
       "..                                                 ...                 ...   \n",
       "493  Master's Colleges & Universities: Medium Programs                  12   \n",
       "494      Baccalaureate Colleges: Arts & Sciences Focus                  11   \n",
       "495  Master's Colleges & Universities: Larger Programs                  11   \n",
       "496  Master's Colleges & Universities: Medium Programs                  12   \n",
       "497      Doctoral Universities: High Research Activity                  16   \n",
       "\n",
       "     totalStudentPop undergradPop totalGrantAid percentOfStudentsFinAid  \\\n",
       "0              12195         4582    35299332.0                    75.0   \n",
       "1              20961         8464    51328461.0                    70.0   \n",
       "2              45878        33208    64495611.0                    63.0   \n",
       "3               8532         5516    44871096.0                    62.0   \n",
       "4              33882         8689    44615007.0                    58.0   \n",
       "..               ...          ...           ...                     ...   \n",
       "493             5901         4429    11919881.0                    99.0   \n",
       "494             2961         2268    12685943.0                   100.0   \n",
       "495             3163         2286     5639254.0                    97.0   \n",
       "496             1980         1644     9759540.0                    99.0   \n",
       "497            25128        20011    27575189.0                    98.0   \n",
       "\n",
       "     percentOfStudentsGrant  \n",
       "0                      60.0  \n",
       "1                      55.0  \n",
       "2                      53.0  \n",
       "3                      61.0  \n",
       "4                      54.0  \n",
       "..                      ...  \n",
       "493                    99.0  \n",
       "494                   100.0  \n",
       "495                    96.0  \n",
       "496                    99.0  \n",
       "497                    97.0  \n",
       "\n",
       "[498 rows x 25 columns]"
      ]
     },
     "execution_count": 9,
     "metadata": {},
     "output_type": "execute_result"
    }
   ],
   "source": [
    "survey_raw_df"
   ]
  },
  {
   "cell_type": "markdown",
   "metadata": {
    "hidden": true
   },
   "source": [
    "this data set contains, 498 different colleges with its 24 columns of its informations"
   ]
  },
  {
   "cell_type": "code",
   "execution_count": 10,
   "metadata": {
    "hidden": true
   },
   "outputs": [
    {
     "data": {
      "text/plain": [
       "Index(['description', 'rank', 'organizationName', 'state', 'studentPopulation',\n",
       "       'campusSetting', 'medianBaseSalary', 'longitude', 'latitude', 'website',\n",
       "       'phoneNumber', 'city', 'country', 'state.1', 'region', 'yearFounded',\n",
       "       'stateCode', 'collegeType', 'carnegieClassification',\n",
       "       'studentFacultyRatio', 'totalStudentPop', 'undergradPop',\n",
       "       'totalGrantAid', 'percentOfStudentsFinAid', 'percentOfStudentsGrant'],\n",
       "      dtype='object')"
      ]
     },
     "execution_count": 10,
     "metadata": {},
     "output_type": "execute_result"
    }
   ],
   "source": [
    "survey_raw_df.columns"
   ]
  },
  {
   "cell_type": "code",
   "execution_count": 11,
   "metadata": {
    "hidden": true
   },
   "outputs": [],
   "source": [
    "schema_fname = 'top-american-colleges-2022/top_colleges_2022.csv'"
   ]
  },
  {
   "cell_type": "markdown",
   "metadata": {
    "hidden": true
   },
   "source": [
    "schema_raw = pd.read_csv(schema_fname, index_col='Index')"
   ]
  },
  {
   "cell_type": "markdown",
   "metadata": {
    "heading_collapsed": true
   },
   "source": [
    "## Data Preparation & Cleaning"
   ]
  },
  {
   "cell_type": "markdown",
   "metadata": {
    "hidden": true
   },
   "source": [
    "here we will only extract columns which we will survey upon"
   ]
  },
  {
   "cell_type": "code",
   "execution_count": 12,
   "metadata": {
    "hidden": true
   },
   "outputs": [],
   "source": [
    "selected_columns = [\n",
    "    # colleges informations\n",
    "    'organizationName',\n",
    "    'rank',\n",
    "    'collegeType',\n",
    "    'medianBaseSalary',\n",
    "    'longitude',\n",
    "    'latitude',\n",
    "    'state',\n",
    "    'region',\n",
    "    'yearFounded',\n",
    "    # student informations\n",
    "    'totalStudentPop',\n",
    "    'undergradPop',\n",
    "]"
   ]
  },
  {
   "cell_type": "code",
   "execution_count": 13,
   "metadata": {
    "hidden": true
   },
   "outputs": [
    {
     "data": {
      "text/plain": [
       "11"
      ]
     },
     "execution_count": 13,
     "metadata": {},
     "output_type": "execute_result"
    }
   ],
   "source": [
    "len(selected_columns)"
   ]
  },
  {
   "cell_type": "markdown",
   "metadata": {
    "hidden": true
   },
   "source": [
    "therefore, we have taken 11 columns for survey"
   ]
  },
  {
   "cell_type": "code",
   "execution_count": 14,
   "metadata": {
    "hidden": true
   },
   "outputs": [],
   "source": [
    "survey_df = survey_raw_df[selected_columns].copy()"
   ]
  },
  {
   "cell_type": "code",
   "execution_count": 15,
   "metadata": {
    "hidden": true
   },
   "outputs": [],
   "source": [
    "schema = survey_df[selected_columns]"
   ]
  },
  {
   "cell_type": "markdown",
   "metadata": {
    "hidden": true
   },
   "source": [
    "lets see some basic information about our dataset"
   ]
  },
  {
   "cell_type": "code",
   "execution_count": 16,
   "metadata": {
    "hidden": true
   },
   "outputs": [
    {
     "data": {
      "text/plain": [
       "(498, 11)"
      ]
     },
     "execution_count": 16,
     "metadata": {},
     "output_type": "execute_result"
    }
   ],
   "source": [
    "survey_df.shape"
   ]
  },
  {
   "cell_type": "markdown",
   "metadata": {
    "hidden": true
   },
   "source": [
    "therefore our dataset has 489 rows and 11 columns"
   ]
  },
  {
   "cell_type": "code",
   "execution_count": 17,
   "metadata": {
    "hidden": true
   },
   "outputs": [
    {
     "name": "stdout",
     "output_type": "stream",
     "text": [
      "<class 'pandas.core.frame.DataFrame'>\n",
      "RangeIndex: 498 entries, 0 to 497\n",
      "Data columns (total 11 columns):\n",
      " #   Column            Non-Null Count  Dtype  \n",
      "---  ------            --------------  -----  \n",
      " 0   organizationName  498 non-null    object \n",
      " 1   rank              498 non-null    int64  \n",
      " 2   collegeType       498 non-null    object \n",
      " 3   medianBaseSalary  491 non-null    float64\n",
      " 4   longitude         458 non-null    float64\n",
      " 5   latitude          458 non-null    float64\n",
      " 6   state             498 non-null    object \n",
      " 7   region            489 non-null    object \n",
      " 8   yearFounded       451 non-null    float64\n",
      " 9   totalStudentPop   498 non-null    int64  \n",
      " 10  undergradPop      498 non-null    int64  \n",
      "dtypes: float64(4), int64(3), object(4)\n",
      "memory usage: 42.9+ KB\n"
     ]
    }
   ],
   "source": [
    "survey_df.info()"
   ]
  },
  {
   "cell_type": "code",
   "execution_count": 18,
   "metadata": {
    "hidden": true,
    "scrolled": true
   },
   "outputs": [
    {
     "data": {
      "text/html": [
       "<div>\n",
       "<style scoped>\n",
       "    .dataframe tbody tr th:only-of-type {\n",
       "        vertical-align: middle;\n",
       "    }\n",
       "\n",
       "    .dataframe tbody tr th {\n",
       "        vertical-align: top;\n",
       "    }\n",
       "\n",
       "    .dataframe thead th {\n",
       "        text-align: right;\n",
       "    }\n",
       "</style>\n",
       "<table border=\"1\" class=\"dataframe\">\n",
       "  <thead>\n",
       "    <tr style=\"text-align: right;\">\n",
       "      <th></th>\n",
       "      <th>rank</th>\n",
       "      <th>medianBaseSalary</th>\n",
       "      <th>longitude</th>\n",
       "      <th>latitude</th>\n",
       "      <th>yearFounded</th>\n",
       "      <th>totalStudentPop</th>\n",
       "      <th>undergradPop</th>\n",
       "    </tr>\n",
       "  </thead>\n",
       "  <tbody>\n",
       "    <tr>\n",
       "      <th>count</th>\n",
       "      <td>498.000000</td>\n",
       "      <td>491.000000</td>\n",
       "      <td>458.000000</td>\n",
       "      <td>458.000000</td>\n",
       "      <td>451.000000</td>\n",
       "      <td>498.000000</td>\n",
       "      <td>498.000000</td>\n",
       "    </tr>\n",
       "    <tr>\n",
       "      <th>mean</th>\n",
       "      <td>249.485944</td>\n",
       "      <td>116382.077393</td>\n",
       "      <td>-88.871596</td>\n",
       "      <td>39.082492</td>\n",
       "      <td>1879.944568</td>\n",
       "      <td>16073.983936</td>\n",
       "      <td>12075.550201</td>\n",
       "    </tr>\n",
       "    <tr>\n",
       "      <th>std</th>\n",
       "      <td>143.899350</td>\n",
       "      <td>17161.769465</td>\n",
       "      <td>18.490733</td>\n",
       "      <td>4.481500</td>\n",
       "      <td>50.805940</td>\n",
       "      <td>16284.865007</td>\n",
       "      <td>12628.161452</td>\n",
       "    </tr>\n",
       "    <tr>\n",
       "      <th>min</th>\n",
       "      <td>1.000000</td>\n",
       "      <td>77300.000000</td>\n",
       "      <td>-157.820047</td>\n",
       "      <td>21.299373</td>\n",
       "      <td>1636.000000</td>\n",
       "      <td>421.000000</td>\n",
       "      <td>421.000000</td>\n",
       "    </tr>\n",
       "    <tr>\n",
       "      <th>25%</th>\n",
       "      <td>125.250000</td>\n",
       "      <td>104300.000000</td>\n",
       "      <td>-96.924510</td>\n",
       "      <td>36.105500</td>\n",
       "      <td>1851.000000</td>\n",
       "      <td>3112.500000</td>\n",
       "      <td>2613.750000</td>\n",
       "    </tr>\n",
       "    <tr>\n",
       "      <th>50%</th>\n",
       "      <td>249.500000</td>\n",
       "      <td>112800.000000</td>\n",
       "      <td>-84.251869</td>\n",
       "      <td>40.195954</td>\n",
       "      <td>1878.000000</td>\n",
       "      <td>9850.000000</td>\n",
       "      <td>6844.500000</td>\n",
       "    </tr>\n",
       "    <tr>\n",
       "      <th>75%</th>\n",
       "      <td>373.750000</td>\n",
       "      <td>125000.000000</td>\n",
       "      <td>-75.471093</td>\n",
       "      <td>42.210113</td>\n",
       "      <td>1908.500000</td>\n",
       "      <td>24363.000000</td>\n",
       "      <td>18655.250000</td>\n",
       "    </tr>\n",
       "    <tr>\n",
       "      <th>max</th>\n",
       "      <td>498.000000</td>\n",
       "      <td>173700.000000</td>\n",
       "      <td>85.501600</td>\n",
       "      <td>48.752350</td>\n",
       "      <td>2013.000000</td>\n",
       "      <td>102826.000000</td>\n",
       "      <td>84202.000000</td>\n",
       "    </tr>\n",
       "  </tbody>\n",
       "</table>\n",
       "</div>"
      ],
      "text/plain": [
       "             rank  medianBaseSalary   longitude    latitude  yearFounded  \\\n",
       "count  498.000000        491.000000  458.000000  458.000000   451.000000   \n",
       "mean   249.485944     116382.077393  -88.871596   39.082492  1879.944568   \n",
       "std    143.899350      17161.769465   18.490733    4.481500    50.805940   \n",
       "min      1.000000      77300.000000 -157.820047   21.299373  1636.000000   \n",
       "25%    125.250000     104300.000000  -96.924510   36.105500  1851.000000   \n",
       "50%    249.500000     112800.000000  -84.251869   40.195954  1878.000000   \n",
       "75%    373.750000     125000.000000  -75.471093   42.210113  1908.500000   \n",
       "max    498.000000     173700.000000   85.501600   48.752350  2013.000000   \n",
       "\n",
       "       totalStudentPop  undergradPop  \n",
       "count       498.000000    498.000000  \n",
       "mean      16073.983936  12075.550201  \n",
       "std       16284.865007  12628.161452  \n",
       "min         421.000000    421.000000  \n",
       "25%        3112.500000   2613.750000  \n",
       "50%        9850.000000   6844.500000  \n",
       "75%       24363.000000  18655.250000  \n",
       "max      102826.000000  84202.000000  "
      ]
     },
     "execution_count": 18,
     "metadata": {},
     "output_type": "execute_result"
    }
   ],
   "source": [
    "survey_df.describe()"
   ]
  },
  {
   "cell_type": "markdown",
   "metadata": {
    "hidden": true
   },
   "source": [
    "no need to re-arrange since all data are correctly provided,\n",
    "from here we see, there are 498 colleges ranked from 1 to 498. \n",
    "latest founded college was at 2013 AD, while firstly founded college was at 1636 AD. "
   ]
  },
  {
   "cell_type": "code",
   "execution_count": 19,
   "metadata": {
    "hidden": true,
    "scrolled": false
   },
   "outputs": [
    {
     "data": {
      "text/html": [
       "<div>\n",
       "<style scoped>\n",
       "    .dataframe tbody tr th:only-of-type {\n",
       "        vertical-align: middle;\n",
       "    }\n",
       "\n",
       "    .dataframe tbody tr th {\n",
       "        vertical-align: top;\n",
       "    }\n",
       "\n",
       "    .dataframe thead th {\n",
       "        text-align: right;\n",
       "    }\n",
       "</style>\n",
       "<table border=\"1\" class=\"dataframe\">\n",
       "  <thead>\n",
       "    <tr style=\"text-align: right;\">\n",
       "      <th></th>\n",
       "      <th>organizationName</th>\n",
       "      <th>rank</th>\n",
       "      <th>collegeType</th>\n",
       "      <th>medianBaseSalary</th>\n",
       "      <th>longitude</th>\n",
       "      <th>latitude</th>\n",
       "      <th>state</th>\n",
       "      <th>region</th>\n",
       "      <th>yearFounded</th>\n",
       "      <th>totalStudentPop</th>\n",
       "      <th>undergradPop</th>\n",
       "    </tr>\n",
       "  </thead>\n",
       "  <tbody>\n",
       "    <tr>\n",
       "      <th>0</th>\n",
       "      <td>Massachusetts Institute of Technology</td>\n",
       "      <td>1</td>\n",
       "      <td>Private not-for-profit</td>\n",
       "      <td>173700.0</td>\n",
       "      <td>-71.093539</td>\n",
       "      <td>42.359006</td>\n",
       "      <td>MA</td>\n",
       "      <td>Northeast</td>\n",
       "      <td>1861.0</td>\n",
       "      <td>12195</td>\n",
       "      <td>4582</td>\n",
       "    </tr>\n",
       "    <tr>\n",
       "      <th>1</th>\n",
       "      <td>Stanford University</td>\n",
       "      <td>2</td>\n",
       "      <td>Private not-for-profit</td>\n",
       "      <td>173500.0</td>\n",
       "      <td>-122.168924</td>\n",
       "      <td>37.431370</td>\n",
       "      <td>CA</td>\n",
       "      <td>West</td>\n",
       "      <td>1891.0</td>\n",
       "      <td>20961</td>\n",
       "      <td>8464</td>\n",
       "    </tr>\n",
       "    <tr>\n",
       "      <th>2</th>\n",
       "      <td>University of California, Berkeley</td>\n",
       "      <td>2</td>\n",
       "      <td>Public</td>\n",
       "      <td>154500.0</td>\n",
       "      <td>-122.258393</td>\n",
       "      <td>37.869236</td>\n",
       "      <td>CA</td>\n",
       "      <td>West</td>\n",
       "      <td>1868.0</td>\n",
       "      <td>45878</td>\n",
       "      <td>33208</td>\n",
       "    </tr>\n",
       "    <tr>\n",
       "      <th>3</th>\n",
       "      <td>Princeton University</td>\n",
       "      <td>4</td>\n",
       "      <td>Private not-for-profit</td>\n",
       "      <td>167600.0</td>\n",
       "      <td>-74.659119</td>\n",
       "      <td>40.349855</td>\n",
       "      <td>NJ</td>\n",
       "      <td>Northeast</td>\n",
       "      <td>1746.0</td>\n",
       "      <td>8532</td>\n",
       "      <td>5516</td>\n",
       "    </tr>\n",
       "    <tr>\n",
       "      <th>4</th>\n",
       "      <td>Columbia University</td>\n",
       "      <td>5</td>\n",
       "      <td>Private not-for-profit</td>\n",
       "      <td>148800.0</td>\n",
       "      <td>-73.961288</td>\n",
       "      <td>40.806515</td>\n",
       "      <td>NY</td>\n",
       "      <td>Northeast</td>\n",
       "      <td>1754.0</td>\n",
       "      <td>33882</td>\n",
       "      <td>8689</td>\n",
       "    </tr>\n",
       "    <tr>\n",
       "      <th>...</th>\n",
       "      <td>...</td>\n",
       "      <td>...</td>\n",
       "      <td>...</td>\n",
       "      <td>...</td>\n",
       "      <td>...</td>\n",
       "      <td>...</td>\n",
       "      <td>...</td>\n",
       "      <td>...</td>\n",
       "      <td>...</td>\n",
       "      <td>...</td>\n",
       "      <td>...</td>\n",
       "    </tr>\n",
       "    <tr>\n",
       "      <th>493</th>\n",
       "      <td>St. Joseph's College (NY)</td>\n",
       "      <td>494</td>\n",
       "      <td>Private not-for-profit</td>\n",
       "      <td>100900.0</td>\n",
       "      <td>-73.968304</td>\n",
       "      <td>40.690548</td>\n",
       "      <td>NY</td>\n",
       "      <td>Northeast</td>\n",
       "      <td>1916.0</td>\n",
       "      <td>5901</td>\n",
       "      <td>4429</td>\n",
       "    </tr>\n",
       "    <tr>\n",
       "      <th>494</th>\n",
       "      <td>Moravian University</td>\n",
       "      <td>495</td>\n",
       "      <td>Private not-for-profit</td>\n",
       "      <td>109800.0</td>\n",
       "      <td>-75.381596</td>\n",
       "      <td>40.630303</td>\n",
       "      <td>PA</td>\n",
       "      <td>Northeast</td>\n",
       "      <td>1742.0</td>\n",
       "      <td>2961</td>\n",
       "      <td>2268</td>\n",
       "    </tr>\n",
       "    <tr>\n",
       "      <th>495</th>\n",
       "      <td>Lawrence Technological University</td>\n",
       "      <td>496</td>\n",
       "      <td>Private not-for-profit</td>\n",
       "      <td>119900.0</td>\n",
       "      <td>-83.278458</td>\n",
       "      <td>42.450606</td>\n",
       "      <td>MI</td>\n",
       "      <td>Midwest</td>\n",
       "      <td>NaN</td>\n",
       "      <td>3163</td>\n",
       "      <td>2286</td>\n",
       "    </tr>\n",
       "    <tr>\n",
       "      <th>496</th>\n",
       "      <td>Saint Martin's University</td>\n",
       "      <td>497</td>\n",
       "      <td>Private not-for-profit</td>\n",
       "      <td>102100.0</td>\n",
       "      <td>NaN</td>\n",
       "      <td>NaN</td>\n",
       "      <td>WA</td>\n",
       "      <td>West</td>\n",
       "      <td>NaN</td>\n",
       "      <td>1980</td>\n",
       "      <td>1644</td>\n",
       "    </tr>\n",
       "    <tr>\n",
       "      <th>497</th>\n",
       "      <td>University of Memphis</td>\n",
       "      <td>498</td>\n",
       "      <td>Public</td>\n",
       "      <td>90700.0</td>\n",
       "      <td>-89.939618</td>\n",
       "      <td>35.118453</td>\n",
       "      <td>TN</td>\n",
       "      <td>South</td>\n",
       "      <td>1912.0</td>\n",
       "      <td>25128</td>\n",
       "      <td>20011</td>\n",
       "    </tr>\n",
       "  </tbody>\n",
       "</table>\n",
       "<p>498 rows × 11 columns</p>\n",
       "</div>"
      ],
      "text/plain": [
       "                          organizationName  rank             collegeType  \\\n",
       "0    Massachusetts Institute of Technology     1  Private not-for-profit   \n",
       "1                      Stanford University     2  Private not-for-profit   \n",
       "2       University of California, Berkeley     2                  Public   \n",
       "3                     Princeton University     4  Private not-for-profit   \n",
       "4                      Columbia University     5  Private not-for-profit   \n",
       "..                                     ...   ...                     ...   \n",
       "493              St. Joseph's College (NY)   494  Private not-for-profit   \n",
       "494                    Moravian University   495  Private not-for-profit   \n",
       "495      Lawrence Technological University   496  Private not-for-profit   \n",
       "496              Saint Martin's University   497  Private not-for-profit   \n",
       "497                  University of Memphis   498                  Public   \n",
       "\n",
       "     medianBaseSalary   longitude   latitude state     region  yearFounded  \\\n",
       "0            173700.0  -71.093539  42.359006    MA  Northeast       1861.0   \n",
       "1            173500.0 -122.168924  37.431370    CA       West       1891.0   \n",
       "2            154500.0 -122.258393  37.869236    CA       West       1868.0   \n",
       "3            167600.0  -74.659119  40.349855    NJ  Northeast       1746.0   \n",
       "4            148800.0  -73.961288  40.806515    NY  Northeast       1754.0   \n",
       "..                ...         ...        ...   ...        ...          ...   \n",
       "493          100900.0  -73.968304  40.690548    NY  Northeast       1916.0   \n",
       "494          109800.0  -75.381596  40.630303    PA  Northeast       1742.0   \n",
       "495          119900.0  -83.278458  42.450606    MI    Midwest          NaN   \n",
       "496          102100.0         NaN        NaN    WA       West          NaN   \n",
       "497           90700.0  -89.939618  35.118453    TN      South       1912.0   \n",
       "\n",
       "     totalStudentPop  undergradPop  \n",
       "0              12195          4582  \n",
       "1              20961          8464  \n",
       "2              45878         33208  \n",
       "3               8532          5516  \n",
       "4              33882          8689  \n",
       "..               ...           ...  \n",
       "493             5901          4429  \n",
       "494             2961          2268  \n",
       "495             3163          2286  \n",
       "496             1980          1644  \n",
       "497            25128         20011  \n",
       "\n",
       "[498 rows x 11 columns]"
      ]
     },
     "execution_count": 19,
     "metadata": {},
     "output_type": "execute_result"
    }
   ],
   "source": [
    "survey_df"
   ]
  },
  {
   "cell_type": "markdown",
   "metadata": {
    "heading_collapsed": true
   },
   "source": [
    "## Exploratory Analysis and Visualization"
   ]
  },
  {
   "cell_type": "code",
   "execution_count": 20,
   "metadata": {
    "hidden": true
   },
   "outputs": [],
   "source": [
    "import seaborn as sns\n",
    "import matplotlib\n",
    "import matplotlib.pyplot as plt\n",
    "%matplotlib inline\n",
    "\n",
    "sns.set_style('darkgrid')\n",
    "matplotlib.rcParams['font.size'] = 14\n",
    "matplotlib.rcParams['figure.figsize'] = (11, 7)\n",
    "matplotlib.rcParams['figure.facecolor'] = '#00000000'"
   ]
  },
  {
   "cell_type": "markdown",
   "metadata": {
    "hidden": true
   },
   "source": [
    "### State\n",
    "lets see how many colleges each state has"
   ]
  },
  {
   "cell_type": "code",
   "execution_count": 21,
   "metadata": {
    "hidden": true,
    "scrolled": true
   },
   "outputs": [
    {
     "data": {
      "text/plain": [
       "51"
      ]
     },
     "execution_count": 21,
     "metadata": {},
     "output_type": "execute_result"
    }
   ],
   "source": [
    "survey_df.state.nunique()"
   ]
  },
  {
   "cell_type": "markdown",
   "metadata": {
    "hidden": true
   },
   "source": [
    "therefore there are 51 states"
   ]
  },
  {
   "cell_type": "code",
   "execution_count": 22,
   "metadata": {
    "hidden": true
   },
   "outputs": [
    {
     "data": {
      "text/plain": [
       "NY    63\n",
       "CA    55\n",
       "PA    33\n",
       "MA    27\n",
       "TX    26\n",
       "NJ    16\n",
       "IL    16\n",
       "MI    15\n",
       "OH    15\n",
       "VA    14\n",
       "FL    14\n",
       "WA    13\n",
       "IN    12\n",
       "MN    12\n",
       "MD    12\n",
       "NC    11\n",
       "GA     9\n",
       "OR     9\n",
       "TN     9\n",
       "CT     8\n",
       "MO     8\n",
       "WI     8\n",
       "CO     7\n",
       "SC     6\n",
       "AL     5\n",
       "RI     5\n",
       "DC     5\n",
       "IA     5\n",
       "UT     4\n",
       "LA     4\n",
       "AZ     4\n",
       "VT     4\n",
       "ME     4\n",
       "NH     4\n",
       "KY     4\n",
       "OK     3\n",
       "ID     3\n",
       "NE     3\n",
       "NM     3\n",
       "MS     2\n",
       "MT     2\n",
       "ND     2\n",
       "SD     2\n",
       "HI     2\n",
       "AR     2\n",
       "NV     2\n",
       "KS     2\n",
       "PR     1\n",
       "WV     1\n",
       "WY     1\n",
       "DE     1\n",
       "Name: state, dtype: int64"
      ]
     },
     "execution_count": 22,
     "metadata": {},
     "output_type": "execute_result"
    }
   ],
   "source": [
    "top_states = survey_df.state.value_counts()\n",
    "top_states"
   ]
  },
  {
   "cell_type": "markdown",
   "metadata": {
    "hidden": true
   },
   "source": [
    "from the data , NY state has maximum number of colleges of 64, and DE,WY,WV,PR states has the minimum number of colleges of 1"
   ]
  },
  {
   "cell_type": "code",
   "execution_count": 23,
   "metadata": {
    "hidden": true,
    "scrolled": false
   },
   "outputs": [
    {
     "data": {
      "image/png": "[encoded data removed]",
      "text/plain": [
       "<Figure size 2500x800 with 1 Axes>"
      ]
     },
     "metadata": {
      "needs_background": "light"
     },
     "output_type": "display_data"
    }
   ],
   "source": [
    "plt.figure(figsize=(25,8))\n",
    "plt.xticks(rotation=75)\n",
    "plt.title('number of colleges')\n",
    "ax = sns.barplot(x=top_states.index, y=top_states);\n",
    "ax.set(xlabel='states', ylabel='number of colleges')\n",
    "plt.show()"
   ]
  },
  {
   "cell_type": "markdown",
   "metadata": {
    "hidden": true
   },
   "source": [
    "from the graph looks like NY state has the highest number of colleges, while DE states has the lowest number of colleges"
   ]
  },
  {
   "cell_type": "markdown",
   "metadata": {
    "hidden": true
   },
   "source": [
    "### College Types (public and  Private)\n",
    "\n",
    "lets see what percentage of public and private colleges are in united states of america"
   ]
  },
  {
   "cell_type": "code",
   "execution_count": 24,
   "metadata": {
    "hidden": true,
    "scrolled": false
   },
   "outputs": [
    {
     "data": {
      "text/plain": [
       "Private not-for-profit    270\n",
       "Public                    228\n",
       "Name: collegeType, dtype: int64"
      ]
     },
     "execution_count": 24,
     "metadata": {},
     "output_type": "execute_result"
    }
   ],
   "source": [
    "CollegeTypes_count = survey_df.collegeType.value_counts()\n",
    "CollegeTypes_count"
   ]
  },
  {
   "cell_type": "markdown",
   "metadata": {
    "hidden": true
   },
   "source": [
    "so, therefore there are 270 number of private colleges and 228 number of public colleges."
   ]
  },
  {
   "cell_type": "code",
   "execution_count": 25,
   "metadata": {
    "hidden": true
   },
   "outputs": [
    {
     "data": {
      "image/png": "[encoded data removed]",
      "text/plain": [
       "<Figure size 1200x600 with 1 Axes>"
      ]
     },
     "metadata": {},
     "output_type": "display_data"
    }
   ],
   "source": [
    "plt.figure(figsize=(12,6))\n",
    "plt.title('percentage of public and private colleges in America')\n",
    "plt.pie(CollegeTypes_count, labels=CollegeTypes_count.index, autopct='%1.1f%%', startangle=180);"
   ]
  },
  {
   "cell_type": "markdown",
   "metadata": {
    "hidden": true
   },
   "source": [
    "from the pie chart it shows, there are 54.2% of private non-for-profit colleges in USA while there are 45.8% public colleges."
   ]
  },
  {
   "cell_type": "markdown",
   "metadata": {
    "hidden": true
   },
   "source": [
    "### location of colleges\n",
    "\n",
    "lets see where colleges in USA are located"
   ]
  },
  {
   "cell_type": "code",
   "execution_count": 26,
   "metadata": {
    "hidden": true
   },
   "outputs": [],
   "source": [
    "import numpy as np"
   ]
  },
  {
   "cell_type": "code",
   "execution_count": 27,
   "metadata": {
    "hidden": true
   },
   "outputs": [],
   "source": [
    "arr = np.array(survey_df.longitude)\n",
    "arr1 = np.array(survey_df.latitude)"
   ]
  },
  {
   "cell_type": "code",
   "execution_count": 28,
   "metadata": {
    "hidden": true
   },
   "outputs": [
    {
     "data": {
      "image/png": "[encoded data removed]",
      "text/plain": [
       "<Figure size 1100x700 with 1 Axes>"
      ]
     },
     "metadata": {
      "needs_background": "light"
     },
     "output_type": "display_data"
    }
   ],
   "source": [
    "marker_size=5\n",
    "plt.scatter(arr, arr1, marker_size)\n",
    "\n",
    "# Adding details to the plot\n",
    "plt.title('location of colleges')\n",
    "plt.xlabel('longitude')\n",
    "plt.ylabel('latitude')\n",
    "\n",
    "# Displaying the plot\n",
    "plt.show()"
   ]
  },
  {
   "cell_type": "markdown",
   "metadata": {
    "hidden": true
   },
   "source": [
    "from above graph it looks like most colleges in USA are located  between (35 to 45) Latitute and between (-130 to -32) Longitute."
   ]
  },
  {
   "cell_type": "markdown",
   "metadata": {
    "hidden": true
   },
   "source": [
    "### Regions\n",
    "lets see how many colleges each region has"
   ]
  },
  {
   "cell_type": "code",
   "execution_count": 29,
   "metadata": {
    "hidden": true
   },
   "outputs": [
    {
     "data": {
      "text/plain": [
       "4"
      ]
     },
     "execution_count": 29,
     "metadata": {},
     "output_type": "execute_result"
    }
   ],
   "source": [
    "survey_df.region.nunique()"
   ]
  },
  {
   "cell_type": "markdown",
   "metadata": {
    "hidden": true
   },
   "source": [
    "therefore there are 4 different regions"
   ]
  },
  {
   "cell_type": "code",
   "execution_count": 30,
   "metadata": {
    "hidden": true,
    "scrolled": true
   },
   "outputs": [
    {
     "data": {
      "text/plain": [
       "Northeast    181\n",
       "West         105\n",
       "South        104\n",
       "Midwest       99\n",
       "Name: region, dtype: int64"
      ]
     },
     "execution_count": 30,
     "metadata": {},
     "output_type": "execute_result"
    }
   ],
   "source": [
    "top_regions = survey_df.region.value_counts()\n",
    "top_regions"
   ]
  },
  {
   "cell_type": "markdown",
   "metadata": {
    "hidden": true
   },
   "source": [
    "therefore, North east region has highest number of colleges, while Midwest region has lowest number of colleges"
   ]
  },
  {
   "cell_type": "code",
   "execution_count": 31,
   "metadata": {
    "hidden": true
   },
   "outputs": [
    {
     "data": {
      "image/png": "[encoded data removed]",
      "text/plain": [
       "<Figure size 2500x800 with 1 Axes>"
      ]
     },
     "metadata": {
      "needs_background": "light"
     },
     "output_type": "display_data"
    }
   ],
   "source": [
    "plt.figure(figsize=(25,8))\n",
    "plt.xticks(rotation=0)\n",
    "plt.title('number of colleges in each region')\n",
    "ax = sns.barplot(x=top_regions.index, y=top_regions);\n",
    "ax.set(xlabel='regions', ylabel='number of colleges')\n",
    "plt.show()"
   ]
  },
  {
   "cell_type": "markdown",
   "metadata": {
    "hidden": true
   },
   "source": [
    "therefore, northeast has highest number of colleges, while midwest region has least number of colleges.\n",
    "Also, west and south have almost identical number of colleges"
   ]
  },
  {
   "cell_type": "markdown",
   "metadata": {},
   "source": [
    "## Asking and Answering Questions"
   ]
  },
  {
   "cell_type": "markdown",
   "metadata": {},
   "source": [
    "### which college has  highest number of students?"
   ]
  },
  {
   "cell_type": "markdown",
   "metadata": {},
   "source": [
    "here we convert the totaltudentpop dataset into a numpy array.\n",
    "and use the numpy array max function to return highest number"
   ]
  },
  {
   "cell_type": "code",
   "execution_count": 32,
   "metadata": {},
   "outputs": [],
   "source": [
    "arr = np.array(survey_df.totalStudentPop)\n",
    "highest_studentpop = arr.max()"
   ]
  },
  {
   "cell_type": "markdown",
   "metadata": {},
   "source": [
    "here we locate the highest number returned from a numpy array\n",
    "and use it to find out highest number of students"
   ]
  },
  {
   "cell_type": "code",
   "execution_count": 33,
   "metadata": {
    "scrolled": false
   },
   "outputs": [
    {
     "data": {
      "text/html": [
       "<div>\n",
       "<style scoped>\n",
       "    .dataframe tbody tr th:only-of-type {\n",
       "        vertical-align: middle;\n",
       "    }\n",
       "\n",
       "    .dataframe tbody tr th {\n",
       "        vertical-align: top;\n",
       "    }\n",
       "\n",
       "    .dataframe thead th {\n",
       "        text-align: right;\n",
       "    }\n",
       "</style>\n",
       "<table border=\"1\" class=\"dataframe\">\n",
       "  <thead>\n",
       "    <tr style=\"text-align: right;\">\n",
       "      <th></th>\n",
       "      <th>organizationName</th>\n",
       "      <th>rank</th>\n",
       "      <th>collegeType</th>\n",
       "      <th>medianBaseSalary</th>\n",
       "      <th>longitude</th>\n",
       "      <th>latitude</th>\n",
       "      <th>state</th>\n",
       "      <th>region</th>\n",
       "      <th>yearFounded</th>\n",
       "      <th>totalStudentPop</th>\n",
       "      <th>undergradPop</th>\n",
       "    </tr>\n",
       "  </thead>\n",
       "  <tbody>\n",
       "    <tr>\n",
       "      <th>322</th>\n",
       "      <td>Pennsylvania State University</td>\n",
       "      <td>323</td>\n",
       "      <td>Public</td>\n",
       "      <td>NaN</td>\n",
       "      <td>-77.85878</td>\n",
       "      <td>40.807074</td>\n",
       "      <td>PA</td>\n",
       "      <td>Northeast</td>\n",
       "      <td>1855.0</td>\n",
       "      <td>102826</td>\n",
       "      <td>84202</td>\n",
       "    </tr>\n",
       "  </tbody>\n",
       "</table>\n",
       "</div>"
      ],
      "text/plain": [
       "                  organizationName  rank collegeType  medianBaseSalary  \\\n",
       "322  Pennsylvania State University   323      Public               NaN   \n",
       "\n",
       "     longitude   latitude state     region  yearFounded  totalStudentPop  \\\n",
       "322  -77.85878  40.807074    PA  Northeast       1855.0           102826   \n",
       "\n",
       "     undergradPop  \n",
       "322         84202  "
      ]
     },
     "execution_count": 33,
     "metadata": {},
     "output_type": "execute_result"
    }
   ],
   "source": [
    "survey_df.loc[(survey_df['totalStudentPop'] == highest_studentpop)]"
   ]
  },
  {
   "cell_type": "markdown",
   "metadata": {},
   "source": [
    "therefore, Pennsylvania State University has the highest number of students of 102826 students.\t"
   ]
  },
  {
   "cell_type": "markdown",
   "metadata": {},
   "source": [
    "### which college has the lowest number of students?"
   ]
  },
  {
   "cell_type": "markdown",
   "metadata": {},
   "source": [
    "here we convert the totaltudentpop dataset into a numpy array. and use the numpy array min function to return lowest number"
   ]
  },
  {
   "cell_type": "code",
   "execution_count": 34,
   "metadata": {},
   "outputs": [],
   "source": [
    "arr = np.array(survey_df.totalStudentPop)\n",
    "lowest_studentpop = arr.min()"
   ]
  },
  {
   "cell_type": "markdown",
   "metadata": {},
   "source": [
    "here we locate the lowest number returned from a numpy array and use it to find out lowest number of students"
   ]
  },
  {
   "cell_type": "code",
   "execution_count": 35,
   "metadata": {},
   "outputs": [
    {
     "data": {
      "text/html": [
       "<div>\n",
       "<style scoped>\n",
       "    .dataframe tbody tr th:only-of-type {\n",
       "        vertical-align: middle;\n",
       "    }\n",
       "\n",
       "    .dataframe tbody tr th {\n",
       "        vertical-align: top;\n",
       "    }\n",
       "\n",
       "    .dataframe thead th {\n",
       "        text-align: right;\n",
       "    }\n",
       "</style>\n",
       "<table border=\"1\" class=\"dataframe\">\n",
       "  <thead>\n",
       "    <tr style=\"text-align: right;\">\n",
       "      <th></th>\n",
       "      <th>organizationName</th>\n",
       "      <th>rank</th>\n",
       "      <th>collegeType</th>\n",
       "      <th>medianBaseSalary</th>\n",
       "      <th>longitude</th>\n",
       "      <th>latitude</th>\n",
       "      <th>state</th>\n",
       "      <th>region</th>\n",
       "      <th>yearFounded</th>\n",
       "      <th>totalStudentPop</th>\n",
       "      <th>undergradPop</th>\n",
       "    </tr>\n",
       "  </thead>\n",
       "  <tbody>\n",
       "    <tr>\n",
       "      <th>126</th>\n",
       "      <td>Franklin W Olin College of Engineering</td>\n",
       "      <td>127</td>\n",
       "      <td>Private not-for-profit</td>\n",
       "      <td>NaN</td>\n",
       "      <td>NaN</td>\n",
       "      <td>NaN</td>\n",
       "      <td>MA</td>\n",
       "      <td>Northeast</td>\n",
       "      <td>NaN</td>\n",
       "      <td>421</td>\n",
       "      <td>421</td>\n",
       "    </tr>\n",
       "  </tbody>\n",
       "</table>\n",
       "</div>"
      ],
      "text/plain": [
       "                           organizationName  rank             collegeType  \\\n",
       "126  Franklin W Olin College of Engineering   127  Private not-for-profit   \n",
       "\n",
       "     medianBaseSalary  longitude  latitude state     region  yearFounded  \\\n",
       "126               NaN        NaN       NaN    MA  Northeast          NaN   \n",
       "\n",
       "     totalStudentPop  undergradPop  \n",
       "126              421           421  "
      ]
     },
     "execution_count": 35,
     "metadata": {},
     "output_type": "execute_result"
    }
   ],
   "source": [
    "survey_df.loc[(survey_df['totalStudentPop'] == lowest_studentpop)]"
   ]
  },
  {
   "cell_type": "markdown",
   "metadata": {},
   "source": [
    "therefore, Franklin W Olin College of Engineering has the lowest number of students of 421\t students.\t"
   ]
  },
  {
   "cell_type": "markdown",
   "metadata": {},
   "source": [
    "### which are the Top 10 ranked colleges?"
   ]
  },
  {
   "cell_type": "markdown",
   "metadata": {},
   "source": [
    "we use pandas library function nsmallest() to sort out rank numbers"
   ]
  },
  {
   "cell_type": "code",
   "execution_count": 36,
   "metadata": {},
   "outputs": [
    {
     "data": {
      "text/html": [
       "<div>\n",
       "<style scoped>\n",
       "    .dataframe tbody tr th:only-of-type {\n",
       "        vertical-align: middle;\n",
       "    }\n",
       "\n",
       "    .dataframe tbody tr th {\n",
       "        vertical-align: top;\n",
       "    }\n",
       "\n",
       "    .dataframe thead th {\n",
       "        text-align: right;\n",
       "    }\n",
       "</style>\n",
       "<table border=\"1\" class=\"dataframe\">\n",
       "  <thead>\n",
       "    <tr style=\"text-align: right;\">\n",
       "      <th></th>\n",
       "      <th>organizationName</th>\n",
       "      <th>rank</th>\n",
       "      <th>collegeType</th>\n",
       "      <th>medianBaseSalary</th>\n",
       "      <th>longitude</th>\n",
       "      <th>latitude</th>\n",
       "      <th>state</th>\n",
       "      <th>region</th>\n",
       "      <th>yearFounded</th>\n",
       "      <th>totalStudentPop</th>\n",
       "      <th>undergradPop</th>\n",
       "    </tr>\n",
       "  </thead>\n",
       "  <tbody>\n",
       "    <tr>\n",
       "      <th>0</th>\n",
       "      <td>Massachusetts Institute of Technology</td>\n",
       "      <td>1</td>\n",
       "      <td>Private not-for-profit</td>\n",
       "      <td>173700.0</td>\n",
       "      <td>-71.093539</td>\n",
       "      <td>42.359006</td>\n",
       "      <td>MA</td>\n",
       "      <td>Northeast</td>\n",
       "      <td>1861.0</td>\n",
       "      <td>12195</td>\n",
       "      <td>4582</td>\n",
       "    </tr>\n",
       "    <tr>\n",
       "      <th>1</th>\n",
       "      <td>Stanford University</td>\n",
       "      <td>2</td>\n",
       "      <td>Private not-for-profit</td>\n",
       "      <td>173500.0</td>\n",
       "      <td>-122.168924</td>\n",
       "      <td>37.431370</td>\n",
       "      <td>CA</td>\n",
       "      <td>West</td>\n",
       "      <td>1891.0</td>\n",
       "      <td>20961</td>\n",
       "      <td>8464</td>\n",
       "    </tr>\n",
       "    <tr>\n",
       "      <th>2</th>\n",
       "      <td>University of California, Berkeley</td>\n",
       "      <td>2</td>\n",
       "      <td>Public</td>\n",
       "      <td>154500.0</td>\n",
       "      <td>-122.258393</td>\n",
       "      <td>37.869236</td>\n",
       "      <td>CA</td>\n",
       "      <td>West</td>\n",
       "      <td>1868.0</td>\n",
       "      <td>45878</td>\n",
       "      <td>33208</td>\n",
       "    </tr>\n",
       "    <tr>\n",
       "      <th>3</th>\n",
       "      <td>Princeton University</td>\n",
       "      <td>4</td>\n",
       "      <td>Private not-for-profit</td>\n",
       "      <td>167600.0</td>\n",
       "      <td>-74.659119</td>\n",
       "      <td>40.349855</td>\n",
       "      <td>NJ</td>\n",
       "      <td>Northeast</td>\n",
       "      <td>1746.0</td>\n",
       "      <td>8532</td>\n",
       "      <td>5516</td>\n",
       "    </tr>\n",
       "    <tr>\n",
       "      <th>4</th>\n",
       "      <td>Columbia University</td>\n",
       "      <td>5</td>\n",
       "      <td>Private not-for-profit</td>\n",
       "      <td>148800.0</td>\n",
       "      <td>-73.961288</td>\n",
       "      <td>40.806515</td>\n",
       "      <td>NY</td>\n",
       "      <td>Northeast</td>\n",
       "      <td>1754.0</td>\n",
       "      <td>33882</td>\n",
       "      <td>8689</td>\n",
       "    </tr>\n",
       "    <tr>\n",
       "      <th>5</th>\n",
       "      <td>University of California, Los Angeles</td>\n",
       "      <td>6</td>\n",
       "      <td>Public</td>\n",
       "      <td>137200.0</td>\n",
       "      <td>-118.437855</td>\n",
       "      <td>34.073903</td>\n",
       "      <td>CA</td>\n",
       "      <td>West</td>\n",
       "      <td>1919.0</td>\n",
       "      <td>46947</td>\n",
       "      <td>33641</td>\n",
       "    </tr>\n",
       "    <tr>\n",
       "      <th>6</th>\n",
       "      <td>Williams College</td>\n",
       "      <td>7</td>\n",
       "      <td>Private not-for-profit</td>\n",
       "      <td>152600.0</td>\n",
       "      <td>-73.208078</td>\n",
       "      <td>42.712389</td>\n",
       "      <td>MA</td>\n",
       "      <td>Northeast</td>\n",
       "      <td>1793.0</td>\n",
       "      <td>2307</td>\n",
       "      <td>2251</td>\n",
       "    </tr>\n",
       "    <tr>\n",
       "      <th>7</th>\n",
       "      <td>Yale University</td>\n",
       "      <td>8</td>\n",
       "      <td>Private not-for-profit</td>\n",
       "      <td>163700.0</td>\n",
       "      <td>-72.923425</td>\n",
       "      <td>41.314042</td>\n",
       "      <td>CT</td>\n",
       "      <td>Northeast</td>\n",
       "      <td>1701.0</td>\n",
       "      <td>14910</td>\n",
       "      <td>7199</td>\n",
       "    </tr>\n",
       "    <tr>\n",
       "      <th>8</th>\n",
       "      <td>Duke University</td>\n",
       "      <td>9</td>\n",
       "      <td>Private not-for-profit</td>\n",
       "      <td>155000.0</td>\n",
       "      <td>-78.940277</td>\n",
       "      <td>36.001389</td>\n",
       "      <td>NC</td>\n",
       "      <td>South</td>\n",
       "      <td>1924.0</td>\n",
       "      <td>17855</td>\n",
       "      <td>7278</td>\n",
       "    </tr>\n",
       "    <tr>\n",
       "      <th>9</th>\n",
       "      <td>University of Pennsylvania</td>\n",
       "      <td>10</td>\n",
       "      <td>Private not-for-profit</td>\n",
       "      <td>164000.0</td>\n",
       "      <td>-75.162369</td>\n",
       "      <td>39.952270</td>\n",
       "      <td>PA</td>\n",
       "      <td>Northeast</td>\n",
       "      <td>1740.0</td>\n",
       "      <td>30688</td>\n",
       "      <td>14202</td>\n",
       "    </tr>\n",
       "  </tbody>\n",
       "</table>\n",
       "</div>"
      ],
      "text/plain": [
       "                        organizationName  rank             collegeType  \\\n",
       "0  Massachusetts Institute of Technology     1  Private not-for-profit   \n",
       "1                    Stanford University     2  Private not-for-profit   \n",
       "2     University of California, Berkeley     2                  Public   \n",
       "3                   Princeton University     4  Private not-for-profit   \n",
       "4                    Columbia University     5  Private not-for-profit   \n",
       "5  University of California, Los Angeles     6                  Public   \n",
       "6                       Williams College     7  Private not-for-profit   \n",
       "7                        Yale University     8  Private not-for-profit   \n",
       "8                        Duke University     9  Private not-for-profit   \n",
       "9             University of Pennsylvania    10  Private not-for-profit   \n",
       "\n",
       "   medianBaseSalary   longitude   latitude state     region  yearFounded  \\\n",
       "0          173700.0  -71.093539  42.359006    MA  Northeast       1861.0   \n",
       "1          173500.0 -122.168924  37.431370    CA       West       1891.0   \n",
       "2          154500.0 -122.258393  37.869236    CA       West       1868.0   \n",
       "3          167600.0  -74.659119  40.349855    NJ  Northeast       1746.0   \n",
       "4          148800.0  -73.961288  40.806515    NY  Northeast       1754.0   \n",
       "5          137200.0 -118.437855  34.073903    CA       West       1919.0   \n",
       "6          152600.0  -73.208078  42.712389    MA  Northeast       1793.0   \n",
       "7          163700.0  -72.923425  41.314042    CT  Northeast       1701.0   \n",
       "8          155000.0  -78.940277  36.001389    NC      South       1924.0   \n",
       "9          164000.0  -75.162369  39.952270    PA  Northeast       1740.0   \n",
       "\n",
       "   totalStudentPop  undergradPop  \n",
       "0            12195          4582  \n",
       "1            20961          8464  \n",
       "2            45878         33208  \n",
       "3             8532          5516  \n",
       "4            33882          8689  \n",
       "5            46947         33641  \n",
       "6             2307          2251  \n",
       "7            14910          7199  \n",
       "8            17855          7278  \n",
       "9            30688         14202  "
      ]
     },
     "execution_count": 36,
     "metadata": {},
     "output_type": "execute_result"
    }
   ],
   "source": [
    "top_colleges = survey_df.nsmallest(10, 'rank')\n",
    "top_colleges"
   ]
  },
  {
   "cell_type": "markdown",
   "metadata": {},
   "source": [
    "therefore, Massachusetts Institute of Technology is the top ranked college. most of the top 10 ranked colleges are private colleges"
   ]
  },
  {
   "cell_type": "code",
   "execution_count": 37,
   "metadata": {
    "scrolled": false
   },
   "outputs": [
    {
     "data": {
      "image/png": "[encoded data removed]",
      "text/plain": [
       "<Figure size 1100x700 with 1 Axes>"
      ]
     },
     "metadata": {
      "needs_background": "light"
     },
     "output_type": "display_data"
    }
   ],
   "source": [
    "top_colleges[['rank']].T.plot.barh()\n",
    "plt.legend(top_colleges.organizationName, prop={'size': 10})\n",
    "plt.title('Top Ranked Colleges')\n",
    "plt.show()"
   ]
  },
  {
   "cell_type": "markdown",
   "metadata": {},
   "source": [
    "### which are the lowest 10 ranked colleges?"
   ]
  },
  {
   "cell_type": "markdown",
   "metadata": {},
   "source": [
    "we use pandas library nlargest() function to sort out largest rank numbers."
   ]
  },
  {
   "cell_type": "code",
   "execution_count": 38,
   "metadata": {
    "scrolled": false
   },
   "outputs": [
    {
     "data": {
      "text/html": [
       "<div>\n",
       "<style scoped>\n",
       "    .dataframe tbody tr th:only-of-type {\n",
       "        vertical-align: middle;\n",
       "    }\n",
       "\n",
       "    .dataframe tbody tr th {\n",
       "        vertical-align: top;\n",
       "    }\n",
       "\n",
       "    .dataframe thead th {\n",
       "        text-align: right;\n",
       "    }\n",
       "</style>\n",
       "<table border=\"1\" class=\"dataframe\">\n",
       "  <thead>\n",
       "    <tr style=\"text-align: right;\">\n",
       "      <th></th>\n",
       "      <th>organizationName</th>\n",
       "      <th>rank</th>\n",
       "      <th>collegeType</th>\n",
       "      <th>medianBaseSalary</th>\n",
       "      <th>longitude</th>\n",
       "      <th>latitude</th>\n",
       "      <th>state</th>\n",
       "      <th>region</th>\n",
       "      <th>yearFounded</th>\n",
       "      <th>totalStudentPop</th>\n",
       "      <th>undergradPop</th>\n",
       "    </tr>\n",
       "  </thead>\n",
       "  <tbody>\n",
       "    <tr>\n",
       "      <th>497</th>\n",
       "      <td>University of Memphis</td>\n",
       "      <td>498</td>\n",
       "      <td>Public</td>\n",
       "      <td>90700.0</td>\n",
       "      <td>-89.939618</td>\n",
       "      <td>35.118453</td>\n",
       "      <td>TN</td>\n",
       "      <td>South</td>\n",
       "      <td>1912.0</td>\n",
       "      <td>25128</td>\n",
       "      <td>20011</td>\n",
       "    </tr>\n",
       "    <tr>\n",
       "      <th>496</th>\n",
       "      <td>Saint Martin's University</td>\n",
       "      <td>497</td>\n",
       "      <td>Private not-for-profit</td>\n",
       "      <td>102100.0</td>\n",
       "      <td>NaN</td>\n",
       "      <td>NaN</td>\n",
       "      <td>WA</td>\n",
       "      <td>West</td>\n",
       "      <td>NaN</td>\n",
       "      <td>1980</td>\n",
       "      <td>1644</td>\n",
       "    </tr>\n",
       "    <tr>\n",
       "      <th>495</th>\n",
       "      <td>Lawrence Technological University</td>\n",
       "      <td>496</td>\n",
       "      <td>Private not-for-profit</td>\n",
       "      <td>119900.0</td>\n",
       "      <td>-83.278458</td>\n",
       "      <td>42.450606</td>\n",
       "      <td>MI</td>\n",
       "      <td>Midwest</td>\n",
       "      <td>NaN</td>\n",
       "      <td>3163</td>\n",
       "      <td>2286</td>\n",
       "    </tr>\n",
       "    <tr>\n",
       "      <th>494</th>\n",
       "      <td>Moravian University</td>\n",
       "      <td>495</td>\n",
       "      <td>Private not-for-profit</td>\n",
       "      <td>109800.0</td>\n",
       "      <td>-75.381596</td>\n",
       "      <td>40.630303</td>\n",
       "      <td>PA</td>\n",
       "      <td>Northeast</td>\n",
       "      <td>1742.0</td>\n",
       "      <td>2961</td>\n",
       "      <td>2268</td>\n",
       "    </tr>\n",
       "    <tr>\n",
       "      <th>493</th>\n",
       "      <td>St. Joseph's College (NY)</td>\n",
       "      <td>494</td>\n",
       "      <td>Private not-for-profit</td>\n",
       "      <td>100900.0</td>\n",
       "      <td>-73.968304</td>\n",
       "      <td>40.690548</td>\n",
       "      <td>NY</td>\n",
       "      <td>Northeast</td>\n",
       "      <td>1916.0</td>\n",
       "      <td>5901</td>\n",
       "      <td>4429</td>\n",
       "    </tr>\n",
       "    <tr>\n",
       "      <th>492</th>\n",
       "      <td>The University of Texas of the Permian Basin</td>\n",
       "      <td>493</td>\n",
       "      <td>Public</td>\n",
       "      <td>97500.0</td>\n",
       "      <td>-102.375189</td>\n",
       "      <td>31.849150</td>\n",
       "      <td>TX</td>\n",
       "      <td>South</td>\n",
       "      <td>1973.0</td>\n",
       "      <td>8667</td>\n",
       "      <td>7278</td>\n",
       "    </tr>\n",
       "    <tr>\n",
       "      <th>491</th>\n",
       "      <td>Xavier University</td>\n",
       "      <td>492</td>\n",
       "      <td>Private not-for-profit</td>\n",
       "      <td>104900.0</td>\n",
       "      <td>-84.476379</td>\n",
       "      <td>39.149037</td>\n",
       "      <td>OH</td>\n",
       "      <td>Midwest</td>\n",
       "      <td>1831.0</td>\n",
       "      <td>8079</td>\n",
       "      <td>5473</td>\n",
       "    </tr>\n",
       "    <tr>\n",
       "      <th>490</th>\n",
       "      <td>Loyola University New Orleans</td>\n",
       "      <td>491</td>\n",
       "      <td>Private not-for-profit</td>\n",
       "      <td>102300.0</td>\n",
       "      <td>-90.077714</td>\n",
       "      <td>29.953690</td>\n",
       "      <td>LA</td>\n",
       "      <td>South</td>\n",
       "      <td>1904.0</td>\n",
       "      <td>4972</td>\n",
       "      <td>3538</td>\n",
       "    </tr>\n",
       "    <tr>\n",
       "      <th>489</th>\n",
       "      <td>College of Idaho</td>\n",
       "      <td>490</td>\n",
       "      <td>Private not-for-profit</td>\n",
       "      <td>113500.0</td>\n",
       "      <td>-116.675961</td>\n",
       "      <td>43.654855</td>\n",
       "      <td>ID</td>\n",
       "      <td>West</td>\n",
       "      <td>1884.0</td>\n",
       "      <td>1149</td>\n",
       "      <td>1116</td>\n",
       "    </tr>\n",
       "    <tr>\n",
       "      <th>488</th>\n",
       "      <td>Saint Francis University</td>\n",
       "      <td>489</td>\n",
       "      <td>Private not-for-profit</td>\n",
       "      <td>96300.0</td>\n",
       "      <td>NaN</td>\n",
       "      <td>NaN</td>\n",
       "      <td>PA</td>\n",
       "      <td>Northeast</td>\n",
       "      <td>NaN</td>\n",
       "      <td>3822</td>\n",
       "      <td>3076</td>\n",
       "    </tr>\n",
       "  </tbody>\n",
       "</table>\n",
       "</div>"
      ],
      "text/plain": [
       "                                 organizationName  rank  \\\n",
       "497                         University of Memphis   498   \n",
       "496                     Saint Martin's University   497   \n",
       "495             Lawrence Technological University   496   \n",
       "494                           Moravian University   495   \n",
       "493                     St. Joseph's College (NY)   494   \n",
       "492  The University of Texas of the Permian Basin   493   \n",
       "491                             Xavier University   492   \n",
       "490                 Loyola University New Orleans   491   \n",
       "489                              College of Idaho   490   \n",
       "488                      Saint Francis University   489   \n",
       "\n",
       "                collegeType  medianBaseSalary   longitude   latitude state  \\\n",
       "497                  Public           90700.0  -89.939618  35.118453    TN   \n",
       "496  Private not-for-profit          102100.0         NaN        NaN    WA   \n",
       "495  Private not-for-profit          119900.0  -83.278458  42.450606    MI   \n",
       "494  Private not-for-profit          109800.0  -75.381596  40.630303    PA   \n",
       "493  Private not-for-profit          100900.0  -73.968304  40.690548    NY   \n",
       "492                  Public           97500.0 -102.375189  31.849150    TX   \n",
       "491  Private not-for-profit          104900.0  -84.476379  39.149037    OH   \n",
       "490  Private not-for-profit          102300.0  -90.077714  29.953690    LA   \n",
       "489  Private not-for-profit          113500.0 -116.675961  43.654855    ID   \n",
       "488  Private not-for-profit           96300.0         NaN        NaN    PA   \n",
       "\n",
       "        region  yearFounded  totalStudentPop  undergradPop  \n",
       "497      South       1912.0            25128         20011  \n",
       "496       West          NaN             1980          1644  \n",
       "495    Midwest          NaN             3163          2286  \n",
       "494  Northeast       1742.0             2961          2268  \n",
       "493  Northeast       1916.0             5901          4429  \n",
       "492      South       1973.0             8667          7278  \n",
       "491    Midwest       1831.0             8079          5473  \n",
       "490      South       1904.0             4972          3538  \n",
       "489       West       1884.0             1149          1116  \n",
       "488  Northeast          NaN             3822          3076  "
      ]
     },
     "execution_count": 38,
     "metadata": {},
     "output_type": "execute_result"
    }
   ],
   "source": [
    "LowestRankedColleges = survey_df.nlargest(10, 'rank')\n",
    "LowestRankedColleges"
   ]
  },
  {
   "cell_type": "markdown",
   "metadata": {},
   "source": [
    "therefore, University of Memphis is the lowest ranked college . most of the lower ranked colleges are private colleges."
   ]
  },
  {
   "cell_type": "code",
   "execution_count": 39,
   "metadata": {},
   "outputs": [
    {
     "data": {
      "image/png": "[encoded data removed]",
      "text/plain": [
       "<Figure size 1100x700 with 1 Axes>"
      ]
     },
     "metadata": {
      "needs_background": "light"
     },
     "output_type": "display_data"
    }
   ],
   "source": [
    "LowestRankedColleges[['rank']].T.plot.barh()\n",
    "plt.legend(LowestRankedColleges.organizationName, prop={'size': 10})\n",
    "plt.title('Lowest Ranked Colleges')\n",
    "plt.show()"
   ]
  },
  {
   "cell_type": "markdown",
   "metadata": {},
   "source": [
    "###  which are the Top 10 colleges with highest medianBaseSalary?"
   ]
  },
  {
   "cell_type": "markdown",
   "metadata": {},
   "source": [
    "we use pandas library nlargest() function to sort out largest median base salary numbers"
   ]
  },
  {
   "cell_type": "code",
   "execution_count": 40,
   "metadata": {
    "scrolled": false
   },
   "outputs": [
    {
     "data": {
      "text/html": [
       "<div>\n",
       "<style scoped>\n",
       "    .dataframe tbody tr th:only-of-type {\n",
       "        vertical-align: middle;\n",
       "    }\n",
       "\n",
       "    .dataframe tbody tr th {\n",
       "        vertical-align: top;\n",
       "    }\n",
       "\n",
       "    .dataframe thead th {\n",
       "        text-align: right;\n",
       "    }\n",
       "</style>\n",
       "<table border=\"1\" class=\"dataframe\">\n",
       "  <thead>\n",
       "    <tr style=\"text-align: right;\">\n",
       "      <th></th>\n",
       "      <th>organizationName</th>\n",
       "      <th>rank</th>\n",
       "      <th>collegeType</th>\n",
       "      <th>medianBaseSalary</th>\n",
       "      <th>longitude</th>\n",
       "      <th>latitude</th>\n",
       "      <th>state</th>\n",
       "      <th>region</th>\n",
       "      <th>yearFounded</th>\n",
       "      <th>totalStudentPop</th>\n",
       "      <th>undergradPop</th>\n",
       "    </tr>\n",
       "  </thead>\n",
       "  <tbody>\n",
       "    <tr>\n",
       "      <th>0</th>\n",
       "      <td>Massachusetts Institute of Technology</td>\n",
       "      <td>1</td>\n",
       "      <td>Private not-for-profit</td>\n",
       "      <td>173700.0</td>\n",
       "      <td>-71.093539</td>\n",
       "      <td>42.359006</td>\n",
       "      <td>MA</td>\n",
       "      <td>Northeast</td>\n",
       "      <td>1861.0</td>\n",
       "      <td>12195</td>\n",
       "      <td>4582</td>\n",
       "    </tr>\n",
       "    <tr>\n",
       "      <th>1</th>\n",
       "      <td>Stanford University</td>\n",
       "      <td>2</td>\n",
       "      <td>Private not-for-profit</td>\n",
       "      <td>173500.0</td>\n",
       "      <td>-122.168924</td>\n",
       "      <td>37.431370</td>\n",
       "      <td>CA</td>\n",
       "      <td>West</td>\n",
       "      <td>1891.0</td>\n",
       "      <td>20961</td>\n",
       "      <td>8464</td>\n",
       "    </tr>\n",
       "    <tr>\n",
       "      <th>14</th>\n",
       "      <td>Harvard University</td>\n",
       "      <td>15</td>\n",
       "      <td>Private not-for-profit</td>\n",
       "      <td>169000.0</td>\n",
       "      <td>-71.112957</td>\n",
       "      <td>42.374699</td>\n",
       "      <td>MA</td>\n",
       "      <td>Northeast</td>\n",
       "      <td>1636.0</td>\n",
       "      <td>41024</td>\n",
       "      <td>14431</td>\n",
       "    </tr>\n",
       "    <tr>\n",
       "      <th>113</th>\n",
       "      <td>Harvey Mudd College</td>\n",
       "      <td>114</td>\n",
       "      <td>Private not-for-profit</td>\n",
       "      <td>167800.0</td>\n",
       "      <td>-117.716404</td>\n",
       "      <td>34.096100</td>\n",
       "      <td>CA</td>\n",
       "      <td>West</td>\n",
       "      <td>1955.0</td>\n",
       "      <td>1132</td>\n",
       "      <td>1132</td>\n",
       "    </tr>\n",
       "    <tr>\n",
       "      <th>3</th>\n",
       "      <td>Princeton University</td>\n",
       "      <td>4</td>\n",
       "      <td>Private not-for-profit</td>\n",
       "      <td>167600.0</td>\n",
       "      <td>-74.659119</td>\n",
       "      <td>40.349855</td>\n",
       "      <td>NJ</td>\n",
       "      <td>Northeast</td>\n",
       "      <td>1746.0</td>\n",
       "      <td>8532</td>\n",
       "      <td>5516</td>\n",
       "    </tr>\n",
       "    <tr>\n",
       "      <th>44</th>\n",
       "      <td>California Institute of Technology</td>\n",
       "      <td>45</td>\n",
       "      <td>Private not-for-profit</td>\n",
       "      <td>164600.0</td>\n",
       "      <td>-118.125942</td>\n",
       "      <td>34.135911</td>\n",
       "      <td>CA</td>\n",
       "      <td>West</td>\n",
       "      <td>1891.0</td>\n",
       "      <td>2319</td>\n",
       "      <td>967</td>\n",
       "    </tr>\n",
       "    <tr>\n",
       "      <th>259</th>\n",
       "      <td>SUNY Maritime College</td>\n",
       "      <td>260</td>\n",
       "      <td>Public</td>\n",
       "      <td>164100.0</td>\n",
       "      <td>-73.801140</td>\n",
       "      <td>40.809180</td>\n",
       "      <td>NY</td>\n",
       "      <td>Northeast</td>\n",
       "      <td>1874.0</td>\n",
       "      <td>1860</td>\n",
       "      <td>1674</td>\n",
       "    </tr>\n",
       "    <tr>\n",
       "      <th>9</th>\n",
       "      <td>University of Pennsylvania</td>\n",
       "      <td>10</td>\n",
       "      <td>Private not-for-profit</td>\n",
       "      <td>164000.0</td>\n",
       "      <td>-75.162369</td>\n",
       "      <td>39.952270</td>\n",
       "      <td>PA</td>\n",
       "      <td>Northeast</td>\n",
       "      <td>1740.0</td>\n",
       "      <td>30688</td>\n",
       "      <td>14202</td>\n",
       "    </tr>\n",
       "    <tr>\n",
       "      <th>7</th>\n",
       "      <td>Yale University</td>\n",
       "      <td>8</td>\n",
       "      <td>Private not-for-profit</td>\n",
       "      <td>163700.0</td>\n",
       "      <td>-72.923425</td>\n",
       "      <td>41.314042</td>\n",
       "      <td>CT</td>\n",
       "      <td>Northeast</td>\n",
       "      <td>1701.0</td>\n",
       "      <td>14910</td>\n",
       "      <td>7199</td>\n",
       "    </tr>\n",
       "    <tr>\n",
       "      <th>46</th>\n",
       "      <td>Claremont McKenna College</td>\n",
       "      <td>47</td>\n",
       "      <td>Private not-for-profit</td>\n",
       "      <td>161700.0</td>\n",
       "      <td>-117.706769</td>\n",
       "      <td>34.102632</td>\n",
       "      <td>CA</td>\n",
       "      <td>West</td>\n",
       "      <td>1946.0</td>\n",
       "      <td>1361</td>\n",
       "      <td>1358</td>\n",
       "    </tr>\n",
       "  </tbody>\n",
       "</table>\n",
       "</div>"
      ],
      "text/plain": [
       "                          organizationName  rank             collegeType  \\\n",
       "0    Massachusetts Institute of Technology     1  Private not-for-profit   \n",
       "1                      Stanford University     2  Private not-for-profit   \n",
       "14                      Harvard University    15  Private not-for-profit   \n",
       "113                    Harvey Mudd College   114  Private not-for-profit   \n",
       "3                     Princeton University     4  Private not-for-profit   \n",
       "44      California Institute of Technology    45  Private not-for-profit   \n",
       "259                  SUNY Maritime College   260                  Public   \n",
       "9               University of Pennsylvania    10  Private not-for-profit   \n",
       "7                          Yale University     8  Private not-for-profit   \n",
       "46               Claremont McKenna College    47  Private not-for-profit   \n",
       "\n",
       "     medianBaseSalary   longitude   latitude state     region  yearFounded  \\\n",
       "0            173700.0  -71.093539  42.359006    MA  Northeast       1861.0   \n",
       "1            173500.0 -122.168924  37.431370    CA       West       1891.0   \n",
       "14           169000.0  -71.112957  42.374699    MA  Northeast       1636.0   \n",
       "113          167800.0 -117.716404  34.096100    CA       West       1955.0   \n",
       "3            167600.0  -74.659119  40.349855    NJ  Northeast       1746.0   \n",
       "44           164600.0 -118.125942  34.135911    CA       West       1891.0   \n",
       "259          164100.0  -73.801140  40.809180    NY  Northeast       1874.0   \n",
       "9            164000.0  -75.162369  39.952270    PA  Northeast       1740.0   \n",
       "7            163700.0  -72.923425  41.314042    CT  Northeast       1701.0   \n",
       "46           161700.0 -117.706769  34.102632    CA       West       1946.0   \n",
       "\n",
       "     totalStudentPop  undergradPop  \n",
       "0              12195          4582  \n",
       "1              20961          8464  \n",
       "14             41024         14431  \n",
       "113             1132          1132  \n",
       "3               8532          5516  \n",
       "44              2319           967  \n",
       "259             1860          1674  \n",
       "9              30688         14202  \n",
       "7              14910          7199  \n",
       "46              1361          1358  "
      ]
     },
     "execution_count": 40,
     "metadata": {},
     "output_type": "execute_result"
    }
   ],
   "source": [
    "TopMedianSalary = survey_df.nlargest(10, 'medianBaseSalary')\n",
    "TopMedianSalary "
   ]
  },
  {
   "cell_type": "markdown",
   "metadata": {},
   "source": [
    "from above dataset, Massachusetts Institute of Technology is the rank 1 college with highest median base salary. and most of the colleges with high median base salary are private colleges."
   ]
  },
  {
   "cell_type": "code",
   "execution_count": 42,
   "metadata": {},
   "outputs": [
    {
     "data": {
      "image/png": "[encoded data removed]",
      "text/plain": [
       "<Figure size 3500x800 with 1 Axes>"
      ]
     },
     "metadata": {
      "needs_background": "light"
     },
     "output_type": "display_data"
    }
   ],
   "source": [
    "plt.figure(figsize=(35,8))\n",
    "plt.xticks(rotation=20)\n",
    "plt.title('Colleges with Highest medianBase Salary')\n",
    "ax = sns.barplot(x=TopMedianSalary.organizationName, y=TopMedianSalary.medianBaseSalary);\n",
    "ax.set(xlabel='Colleges', ylabel='medianBaseSalary')\n",
    "plt.show()"
   ]
  },
  {
   "cell_type": "markdown",
   "metadata": {
    "heading_collapsed": true
   },
   "source": [
    "# Inferences and Conclusion\n",
    "\n",
    "this dataset helps us to find a lot about American Colleges in detail, from this dataset we can find which college is best and which is worst in all kinds of aspects either be in ranks or in Median Base salaries. We can find where most collages are located in a geographic range so it will be easier for choosing a college according to our own personal needs. there are plenty of insights on this dataset but that is it for now."
   ]
  },
  {
   "cell_type": "markdown",
   "metadata": {
    "heading_collapsed": true
   },
   "source": [
    "# References and Future Work\n",
    "\n",
    "- combine this dataset with colleges of other parts of America to find more about Top ranking colleges all over American Continent.\n",
    "- To learn more about data science and to Up skill myself.\n",
    "- Implementing Machine learning to predict where the next Location of colleges will be according to Features of this Dataset."
   ]
  }
 ],
 "metadata": {
  "kernelspec": {
   "display_name": "Python 3 (ipykernel)",
   "language": "python",
   "name": "python3"
  },
  "language_info": {
   "codemirror_mode": {
    "name": "ipython",
    "version": 3
   },
   "file_extension": ".py",
   "mimetype": "text/x-python",
   "name": "python",
   "nbconvert_exporter": "python",
   "pygments_lexer": "ipython3",
   "version": "3.9.13"
  }
 },
 "nbformat": 4,
 "nbformat_minor": 2
}
