{
 "cells": [
  {
   "cell_type": "markdown",
   "id": "d1f2af8b-e9f7-4af9-ac87-7ff66d36d1f1",
   "metadata": {
    "tags": []
   },
   "source": [
    "# Assignment 1 - All About torch.Tensor\n",
    "\n",
    "PyTorch is an open-source machine learning library widely used for developing deep learning models. It provides a flexible and efficient framework for building and training neural networks. PyTorch is known for its dynamic computational graph, which enables developers to define and modify models on the fly during runtime, making it a popular choice among researchers and practitioners.\n",
    "\n",
    "below are some example functions of PyTorch.\n",
    "\n",
    "- torch.arange\n",
    "- torch.zeros\n",
    "- torch.randn\n",
    "- torch.cat\n",
    "- torch.transpose\n",
    "\n",
    "Before we begin, let's install and import PyTorch"
   ]
  },
  {
   "cell_type": "code",
   "execution_count": 5,
   "id": "dff68c99-3710-4f3b-8715-9ec131e83dab",
   "metadata": {
    "tags": []
   },
   "outputs": [],
   "source": [
    "# Import torch and other required modules\n",
    "import torch"
   ]
  },
  {
   "cell_type": "markdown",
   "id": "6a626aa2-e757-4018-86a2-2587def746d5",
   "metadata": {
    "tags": []
   },
   "source": [
    "## Function 1 - torch.arange\n",
    "\n",
    "The torch.arange function returns a 1D tensor with values from start to end-1 with a specified step size."
   ]
  },
  {
   "cell_type": "code",
   "execution_count": 6,
   "id": "2fbfa1af-0dc5-4e58-8b54-0d8db0fc333f",
   "metadata": {
    "tags": []
   },
   "outputs": [
    {
     "data": {
      "text/plain": [
       "tensor([0, 2, 4, 6, 8])"
      ]
     },
     "execution_count": 6,
     "metadata": {},
     "output_type": "execute_result"
    }
   ],
   "source": [
    "#Example 1 - Working \n",
    "arrange = torch.arange(0, 10, 2)\n",
    "arrange"
   ]
  },
  {
   "cell_type": "markdown",
   "id": "c33ae57f-5f2f-4102-943d-572885026321",
   "metadata": {},
   "source": [
    "In this example, a 1D tensor is created using the torch.arange function. The start value is 0, the end value is 10, and the step size is 2. The resulting tensor will contain the values [0, 2, 4, 6, 8]."
   ]
  },
  {
   "cell_type": "code",
   "execution_count": 7,
   "id": "8ae69e9a-fb56-4f77-b49c-ba5c6e0577ef",
   "metadata": {
    "tags": []
   },
   "outputs": [
    {
     "data": {
      "text/plain": [
       "tensor([0, 1, 2, 3, 4])"
      ]
     },
     "execution_count": 7,
     "metadata": {},
     "output_type": "execute_result"
    }
   ],
   "source": [
    "#Example 2 - Working\n",
    "arrange = torch.arange(5)\n",
    "arrange\n"
   ]
  },
  {
   "cell_type": "markdown",
   "id": "fd46a3a1-fa5f-44f8-a0c9-45ddfa1fd567",
   "metadata": {},
   "source": [
    "In this example, a 1D tensor is created using the torch.arange function. The start value is 5, the end value is 0, and the step size is -1. The resulting tensor will contain the values [5, 4, 3, 2, 1].\n",
    "\n"
   ]
  },
  {
   "cell_type": "code",
   "execution_count": 8,
   "id": "2c4bbb1e-f993-46ef-92dd-3a1b795224e0",
   "metadata": {
    "tags": []
   },
   "outputs": [
    {
     "ename": "RuntimeError",
     "evalue": "step must be nonzero",
     "output_type": "error",
     "traceback": [
      "\u001b[1;31m---------------------------------------------------------------------------\u001b[0m",
      "\u001b[1;31mRuntimeError\u001b[0m                              Traceback (most recent call last)",
      "Cell \u001b[1;32mIn[8], line 2\u001b[0m\n\u001b[0;32m      1\u001b[0m \u001b[38;5;66;03m#Example 2 - Breaking\u001b[39;00m\n\u001b[1;32m----> 2\u001b[0m arrange \u001b[38;5;241m=\u001b[39m \u001b[43mtorch\u001b[49m\u001b[38;5;241;43m.\u001b[39;49m\u001b[43marange\u001b[49m\u001b[43m(\u001b[49m\u001b[38;5;241;43m5\u001b[39;49m\u001b[43m,\u001b[49m\u001b[43m \u001b[49m\u001b[38;5;241;43m0\u001b[39;49m\u001b[43m,\u001b[49m\u001b[43m \u001b[49m\u001b[38;5;241;43m0\u001b[39;49m\u001b[43m)\u001b[49m\n\u001b[0;32m      3\u001b[0m arrange\n",
      "\u001b[1;31mRuntimeError\u001b[0m: step must be nonzero"
     ]
    }
   ],
   "source": [
    "#Example 2 - Breaking\n",
    "arrange = torch.arange(5, 0, 0)\n",
    "arrange"
   ]
  },
  {
   "cell_type": "markdown",
   "id": "95322d23-4dd5-4bfd-9656-271c242b0a18",
   "metadata": {},
   "source": [
    "This example attempts to create a 1D tensor using torch.arange, but the step argument is set to 0. This is invalid because the step value should be non-zero to determine the interval between values. The function raises a ValueError with the message \"step must be non-zero\"."
   ]
  },
  {
   "cell_type": "markdown",
   "id": "0abc9ed9-4271-4ea0-845b-173876f668d7",
   "metadata": {
    "tags": []
   },
   "source": [
    "## Function 2 - torch.zeros\n",
    "\n",
    "torch.zeros creates a tensor of specified shape filled with zeros. It is commonly used to initialize tensors before populating them with actual data."
   ]
  },
  {
   "cell_type": "code",
   "execution_count": 9,
   "id": "419262f1-db54-4990-a633-ca61de01b9c2",
   "metadata": {
    "tags": []
   },
   "outputs": [
    {
     "data": {
      "text/plain": [
       "tensor([[0., 0., 0.],\n",
       "        [0., 0., 0.]])"
      ]
     },
     "execution_count": 9,
     "metadata": {},
     "output_type": "execute_result"
    }
   ],
   "source": [
    "#Example 1 - Working\n",
    "torch.zeros(2, 3)\n"
   ]
  },
  {
   "cell_type": "markdown",
   "id": "7081f309-446a-401e-96c7-56eb6370efb8",
   "metadata": {},
   "source": [
    "This example showcases the creation of a 2D tensor filled with zeros using torch.zeros. The shape is specified as (2, 3), indicating 2 rows and 3 columns."
   ]
  },
  {
   "cell_type": "code",
   "execution_count": 10,
   "id": "8d355918-b78f-4177-a743-933c8d667452",
   "metadata": {
    "tags": []
   },
   "outputs": [
    {
     "data": {
      "text/plain": [
       "tensor([0., 0., 0., 0.])"
      ]
     },
     "execution_count": 10,
     "metadata": {},
     "output_type": "execute_result"
    }
   ],
   "source": [
    "#Example 2 - Working\n",
    "torch.zeros(4)\n"
   ]
  },
  {
   "cell_type": "markdown",
   "id": "c7fa017d-4c63-4348-910e-c440ba4a6998",
   "metadata": {},
   "source": [
    "In this example, a 1D tensor of length 4 is created using torch.zeros. Only a single argument of 4 is provided, representing the length of the tensor."
   ]
  },
  {
   "cell_type": "code",
   "execution_count": 11,
   "id": "8d5878c9-700b-4692-b481-f8e1cf72a085",
   "metadata": {
    "tags": []
   },
   "outputs": [
    {
     "ename": "RuntimeError",
     "evalue": "Trying to create tensor with negative dimension -1: [-1, 3]",
     "output_type": "error",
     "traceback": [
      "\u001b[1;31m---------------------------------------------------------------------------\u001b[0m",
      "\u001b[1;31mRuntimeError\u001b[0m                              Traceback (most recent call last)",
      "Cell \u001b[1;32mIn[11], line 2\u001b[0m\n\u001b[0;32m      1\u001b[0m \u001b[38;5;66;03m#Example 3 - Breaking\u001b[39;00m\n\u001b[1;32m----> 2\u001b[0m \u001b[43mtorch\u001b[49m\u001b[38;5;241;43m.\u001b[39;49m\u001b[43mzeros\u001b[49m\u001b[43m(\u001b[49m\u001b[38;5;241;43m-\u001b[39;49m\u001b[38;5;241;43m1\u001b[39;49m\u001b[43m,\u001b[49m\u001b[43m \u001b[49m\u001b[38;5;241;43m3\u001b[39;49m\u001b[43m)\u001b[49m\n",
      "\u001b[1;31mRuntimeError\u001b[0m: Trying to create tensor with negative dimension -1: [-1, 3]"
     ]
    }
   ],
   "source": [
    "#Example 3 - Breaking\n",
    "torch.zeros(-1, 3)\n"
   ]
  },
  {
   "cell_type": "markdown",
   "id": "0dfff63b-24d6-4dd2-8156-c0c4a65ebeed",
   "metadata": {},
   "source": [
    "This example attempts to create a 2D tensor using torch.zeros, but the first dimension is set to -1. This is invalid because tensor dimensions must have non-negative sizes. The function raises a ValueError with the message \"Shape dimensions must be non-negative integers\"."
   ]
  },
  {
   "cell_type": "markdown",
   "id": "0dcaa612-83c6-4e20-a8c6-70dfcf6a0a9f",
   "metadata": {
    "tags": []
   },
   "source": [
    "## Function 3 - torch.randn\n",
    "\n",
    "torch.randn generates a tensor of specified shape filled with random numbers drawn from a standard normal distribution (mean 0, standard deviation 1). It is often used for initializing weights in neural networks or generating random inputs for testing."
   ]
  },
  {
   "cell_type": "code",
   "execution_count": 12,
   "id": "e8d2fee2-7afb-4055-93fc-dd1e42796ede",
   "metadata": {
    "tags": []
   },
   "outputs": [
    {
     "data": {
      "text/plain": [
       "tensor([[ 0.2061, -1.7754,  0.0324],\n",
       "        [ 2.2869,  0.7249,  1.0693]])"
      ]
     },
     "execution_count": 12,
     "metadata": {},
     "output_type": "execute_result"
    }
   ],
   "source": [
    "#Example 1 - Working\n",
    "torch.randn(2, 3)\n"
   ]
  },
  {
   "cell_type": "markdown",
   "id": "65615c06-b49d-4209-8632-df0ddf6ff4f2",
   "metadata": {},
   "source": [
    "This example demonstrates the creation of a 2D tensor filled with random numbers from a standard normal distribution using torch.randn. The shape is specified as (2, 3), indicating 2 rows and 3 columns."
   ]
  },
  {
   "cell_type": "code",
   "execution_count": 13,
   "id": "9cf54898-1526-45b8-b9ff-64bfe4760e03",
   "metadata": {
    "tags": []
   },
   "outputs": [
    {
     "data": {
      "text/plain": [
       "tensor([-1.3797, -1.6756, -0.8536,  1.0595])"
      ]
     },
     "execution_count": 13,
     "metadata": {},
     "output_type": "execute_result"
    }
   ],
   "source": [
    "#Example 2 - Working\n",
    "torch.randn(4)\n"
   ]
  },
  {
   "cell_type": "markdown",
   "id": "d9beb040-7bd6-4c74-aa3f-58d1dae65674",
   "metadata": {},
   "source": [
    "In this example, a 1D tensor of length 4 is created using torch.randn. Only a single argument of 4 is provided, representing the length of the tensor."
   ]
  },
  {
   "cell_type": "code",
   "execution_count": 14,
   "id": "150fb069-0dc0-43ab-b8ef-590dddbd527e",
   "metadata": {
    "tags": []
   },
   "outputs": [
    {
     "ename": "RuntimeError",
     "evalue": "Trying to create tensor with negative dimension -2: [3, -2]",
     "output_type": "error",
     "traceback": [
      "\u001b[1;31m---------------------------------------------------------------------------\u001b[0m",
      "\u001b[1;31mRuntimeError\u001b[0m                              Traceback (most recent call last)",
      "Cell \u001b[1;32mIn[14], line 2\u001b[0m\n\u001b[0;32m      1\u001b[0m \u001b[38;5;66;03m#Example 3 - Breaking\u001b[39;00m\n\u001b[1;32m----> 2\u001b[0m \u001b[43mtorch\u001b[49m\u001b[38;5;241;43m.\u001b[39;49m\u001b[43mrandn\u001b[49m\u001b[43m(\u001b[49m\u001b[38;5;241;43m3\u001b[39;49m\u001b[43m,\u001b[49m\u001b[43m \u001b[49m\u001b[38;5;241;43m-\u001b[39;49m\u001b[38;5;241;43m2\u001b[39;49m\u001b[43m)\u001b[49m\n",
      "\u001b[1;31mRuntimeError\u001b[0m: Trying to create tensor with negative dimension -2: [3, -2]"
     ]
    }
   ],
   "source": [
    "#Example 3 - Breaking\n",
    "torch.randn(3, -2)\n"
   ]
  },
  {
   "cell_type": "markdown",
   "id": "462e9586-fe16-4917-ac20-d77711e68674",
   "metadata": {},
   "source": [
    "This example attempts to create a 2D tensor using torch.randn, but the second dimension is set to -2. This is invalid because tensor dimensions must have non-negative sizes. The function raises a ValueError with the message \"Shape dimensions must be non-negative integers\"."
   ]
  },
  {
   "cell_type": "markdown",
   "id": "7afa266b-5354-409b-b15e-8ad72f00795e",
   "metadata": {
    "tags": []
   },
   "source": [
    "## Function 4 - torch.cat\n",
    "\n",
    "torch.cat concatenates tensors along a specified dimension. It allows for combining tensors horizontally or vertically to create a larger tensor."
   ]
  },
  {
   "cell_type": "code",
   "execution_count": 15,
   "id": "9d33397e-ce10-4800-aa2a-6414ca5b4848",
   "metadata": {
    "tags": []
   },
   "outputs": [
    {
     "data": {
      "text/plain": [
       "tensor([[1, 2],\n",
       "        [3, 4],\n",
       "        [5, 6],\n",
       "        [7, 8]])"
      ]
     },
     "execution_count": 15,
     "metadata": {},
     "output_type": "execute_result"
    }
   ],
   "source": [
    "#Example 1 - Working\n",
    "tensor1 = torch.tensor([[1, 2], [3, 4]])\n",
    "tensor2 = torch.tensor([[5, 6], [7, 8]])\n",
    "torch.cat((tensor1, tensor2), dim=0)\n"
   ]
  },
  {
   "cell_type": "markdown",
   "id": "c56993e8-9c9e-4cae-bef1-1c699ecca7fa",
   "metadata": {},
   "source": [
    "This example demonstrates the concatenation of two 2D tensors, tensor1 and tensor2, along dim=0 using torch.cat. The resulting tensor will have a shape of (4, 2) and contain the values from both tensors vertically stacked."
   ]
  },
  {
   "cell_type": "code",
   "execution_count": 16,
   "id": "fba1cad2-89b4-45d7-945b-42e58bd5e6c0",
   "metadata": {
    "tags": []
   },
   "outputs": [
    {
     "data": {
      "text/plain": [
       "tensor([[1, 2, 5, 6],\n",
       "        [3, 4, 7, 8]])"
      ]
     },
     "execution_count": 16,
     "metadata": {},
     "output_type": "execute_result"
    }
   ],
   "source": [
    "#Example 2 - Working\n",
    "tensor1 = torch.tensor([[1, 2], [3, 4]])\n",
    "tensor2 = torch.tensor([[5, 6], [7, 8]])\n",
    "torch.cat((tensor1, tensor2), dim=1)\n"
   ]
  },
  {
   "cell_type": "markdown",
   "id": "9341e93c-c8ed-4f11-b71e-e1ab3a1b86f1",
   "metadata": {},
   "source": [
    "In this example, the same tensors tensor1 and tensor2 are concatenated along dim=1 using torch.cat. The resulting tensor will have a shape of (2, 4) and contain the values from both tensors horizontally concatenated."
   ]
  },
  {
   "cell_type": "code",
   "execution_count": 17,
   "id": "2152de56-5041-4de0-93e3-9222da2c75ff",
   "metadata": {
    "tags": []
   },
   "outputs": [
    {
     "ename": "RuntimeError",
     "evalue": "Sizes of tensors must match except in dimension 0. Expected size 2 but got size 3 for tensor number 1 in the list.",
     "output_type": "error",
     "traceback": [
      "\u001b[1;31m---------------------------------------------------------------------------\u001b[0m",
      "\u001b[1;31mRuntimeError\u001b[0m                              Traceback (most recent call last)",
      "Cell \u001b[1;32mIn[17], line 4\u001b[0m\n\u001b[0;32m      2\u001b[0m tensor1 \u001b[38;5;241m=\u001b[39m torch\u001b[38;5;241m.\u001b[39mtensor([[\u001b[38;5;241m1\u001b[39m, \u001b[38;5;241m2\u001b[39m], [\u001b[38;5;241m3\u001b[39m, \u001b[38;5;241m4\u001b[39m]])\n\u001b[0;32m      3\u001b[0m tensor2 \u001b[38;5;241m=\u001b[39m torch\u001b[38;5;241m.\u001b[39mtensor([[\u001b[38;5;241m5\u001b[39m, \u001b[38;5;241m6\u001b[39m, \u001b[38;5;241m7\u001b[39m], [\u001b[38;5;241m8\u001b[39m, \u001b[38;5;241m9\u001b[39m, \u001b[38;5;241m10\u001b[39m]])\n\u001b[1;32m----> 4\u001b[0m \u001b[43mtorch\u001b[49m\u001b[38;5;241;43m.\u001b[39;49m\u001b[43mcat\u001b[49m\u001b[43m(\u001b[49m\u001b[43m(\u001b[49m\u001b[43mtensor1\u001b[49m\u001b[43m,\u001b[49m\u001b[43m \u001b[49m\u001b[43mtensor2\u001b[49m\u001b[43m)\u001b[49m\u001b[43m,\u001b[49m\u001b[43m \u001b[49m\u001b[43mdim\u001b[49m\u001b[38;5;241;43m=\u001b[39;49m\u001b[38;5;241;43m0\u001b[39;49m\u001b[43m)\u001b[49m\n",
      "\u001b[1;31mRuntimeError\u001b[0m: Sizes of tensors must match except in dimension 0. Expected size 2 but got size 3 for tensor number 1 in the list."
     ]
    }
   ],
   "source": [
    "#Example 3 - Breaking\n",
    "tensor1 = torch.tensor([[1, 2], [3, 4]])\n",
    "tensor2 = torch.tensor([[5, 6, 7], [8, 9, 10]])\n",
    "torch.cat((tensor1, tensor2), dim=0)\n"
   ]
  },
  {
   "cell_type": "markdown",
   "id": "7615e689-716e-4131-9937-371e0bcbf76d",
   "metadata": {},
   "source": [
    "In this example, the tensors tensor1 and tensor2 are attempted to be concatenated along dim=0 using torch.cat. However, the number of columns in tensor1 and tensor2 is not the same. tensor1 has 2 columns, and tensor2 has 3 columns. This will result in an error since tensors must have the same size along the specified dimension for concatenation. The function will raise a RuntimeError with the message \"Sizes of tensors must match in each dimension\"."
   ]
  },
  {
   "cell_type": "markdown",
   "id": "8344cdae-2254-49b0-a95b-d60c5f4e8415",
   "metadata": {
    "tags": []
   },
   "source": [
    "## Function 5 - torch.transpose\n",
    "\n",
    "The torch.transpose function returns a tensor with the dimensions permuted according to the provided permutation."
   ]
  },
  {
   "cell_type": "code",
   "execution_count": 18,
   "id": "e61f296b-c65c-4350-81f3-71317b682063",
   "metadata": {
    "tags": []
   },
   "outputs": [
    {
     "data": {
      "text/plain": [
       "tensor([[1, 4],\n",
       "        [2, 5],\n",
       "        [3, 6]])"
      ]
     },
     "execution_count": 18,
     "metadata": {},
     "output_type": "execute_result"
    }
   ],
   "source": [
    "#Example 1 - Working\n",
    "tensor = torch.tensor([[1, 2, 3], [4, 5, 6]])\n",
    "torch.transpose(tensor, 0, 1)\n"
   ]
  },
  {
   "cell_type": "markdown",
   "id": "1cde073a-cdb8-4251-a896-ff7e5f4ae500",
   "metadata": {},
   "source": [
    "In this example, a 2D tensor tensor is created with shape (2, 3). The torch.transpose function is used to permute the dimensions. The arguments (0, 1) indicate that the first dimension should become the second dimension, and the second dimension should become the first dimension. The resulting tensor will have shape (3, 2) and contain the values [[1, 4], [2, 5], [3, 6]]."
   ]
  },
  {
   "cell_type": "code",
   "execution_count": 19,
   "id": "3c92516b-9fa1-45d0-8866-44fcb6278304",
   "metadata": {
    "tags": []
   },
   "outputs": [
    {
     "data": {
      "text/plain": [
       "tensor([1, 2, 3])"
      ]
     },
     "execution_count": 19,
     "metadata": {},
     "output_type": "execute_result"
    }
   ],
   "source": [
    "#Example 2 - Working\n",
    "tensor = torch.tensor([1, 2, 3])\n",
    "torch.transpose(tensor, 0, 0)\n"
   ]
  },
  {
   "cell_type": "markdown",
   "id": "f3564b19-bc06-403b-8328-eca545c969e2",
   "metadata": {},
   "source": [
    "In this example, a 1D tensor tensor is created with shape (3,). The torch.transpose function is used with the same dimension indices (0, 0). Since there is only one dimension, the function will return the original tensor as no permutation is needed."
   ]
  },
  {
   "cell_type": "code",
   "execution_count": 20,
   "id": "c3dfcd66-9e32-4548-bd46-f851194143f6",
   "metadata": {
    "tags": []
   },
   "outputs": [
    {
     "ename": "IndexError",
     "evalue": "Dimension out of range (expected to be in range of [-2, 1], but got 2)",
     "output_type": "error",
     "traceback": [
      "\u001b[1;31m---------------------------------------------------------------------------\u001b[0m",
      "\u001b[1;31mIndexError\u001b[0m                                Traceback (most recent call last)",
      "Cell \u001b[1;32mIn[20], line 3\u001b[0m\n\u001b[0;32m      1\u001b[0m \u001b[38;5;66;03m#Example 3 - Breaking\u001b[39;00m\n\u001b[0;32m      2\u001b[0m tensor \u001b[38;5;241m=\u001b[39m torch\u001b[38;5;241m.\u001b[39mtensor([[\u001b[38;5;241m1\u001b[39m, \u001b[38;5;241m2\u001b[39m, \u001b[38;5;241m3\u001b[39m], [\u001b[38;5;241m4\u001b[39m, \u001b[38;5;241m5\u001b[39m, \u001b[38;5;241m6\u001b[39m]])\n\u001b[1;32m----> 3\u001b[0m \u001b[43mtorch\u001b[49m\u001b[38;5;241;43m.\u001b[39;49m\u001b[43mtranspose\u001b[49m\u001b[43m(\u001b[49m\u001b[43mtensor\u001b[49m\u001b[43m,\u001b[49m\u001b[43m \u001b[49m\u001b[38;5;241;43m0\u001b[39;49m\u001b[43m,\u001b[49m\u001b[43m \u001b[49m\u001b[38;5;241;43m2\u001b[39;49m\u001b[43m)\u001b[49m\n",
      "\u001b[1;31mIndexError\u001b[0m: Dimension out of range (expected to be in range of [-2, 1], but got 2)"
     ]
    }
   ],
   "source": [
    "#Example 3 - Breaking\n",
    "tensor = torch.tensor([[1, 2, 3], [4, 5, 6]])\n",
    "torch.transpose(tensor, 0, 2)\n"
   ]
  },
  {
   "cell_type": "markdown",
   "id": "5686fb51-5bbe-4caa-95ef-fb665566a1e3",
   "metadata": {},
   "source": [
    "In this example, a 2D tensor tensor is created with shape (2, 3). The torch.transpose function is used with invalid dimension indices (0, 2). The second dimension index exceeds the maximum number of dimensions in the tensor. This will result in an error, and the function will raise an IndexError with the message \"Dimension out of range (expected to be in range of [-2, 1], but got 2)\"."
   ]
  },
  {
   "cell_type": "markdown",
   "id": "dfbce82b-31e2-45b4-915a-ee034b926762",
   "metadata": {
    "tags": []
   },
   "source": [
    "## Conclusion"
   ]
  },
  {
   "cell_type": "markdown",
   "id": "71b3e522-9872-4128-b417-2335bccf8409",
   "metadata": {},
   "source": [
    "In conclusion, the functions `torch.arange`, `torch.zeros`, `torch.randn`, `torch.cat`, and `torch.transpose` are essential tools in PyTorch for creating, manipulating, and transforming tensors. \n",
    "\n",
    "- `torch.arange` is useful for generating sequences of numbers within a specified range, allowing for easy creation of 1D tensors with evenly spaced values.\n",
    "\n",
    "- `torch.zeros` is commonly used for initializing tensors with a specified shape, filling them with zeros. It is helpful when preparing tensors to store data.\n",
    "\n",
    "- `torch.randn` generates tensors with random numbers drawn from a standard normal distribution, making it valuable for initializing weights in neural networks or creating random inputs for testing.\n",
    "\n",
    "- `torch.cat` enables the concatenation of tensors along a specified dimension, providing the ability to combine tensors horizontally or vertically to create larger tensors.\n",
    "\n",
    "- `torch.transpose` allows for permuting the dimensions of a tensor based on a provided permutation, enabling flexibility in manipulating and processing data with different tensor shapes and orientations.\n",
    "\n",
    "By leveraging these functions, developers and researchers can perform various operations on tensors, such as creating sequences, initializing tensors, generating random data, combining tensors, and rearranging dimensions. These functions contribute to the versatility and efficiency of PyTorch as a deep learning framework.\n"
   ]
  },
  {
   "cell_type": "markdown",
   "id": "bc8e6546-7600-4254-98b7-d01add36a88a",
   "metadata": {},
   "source": [
    "## Reference Links\n",
    "Provide links to your references and other interesting articles about tensors\n",
    "* Official documentation for tensor operations: https://pytorch.org/docs/stable/torch.html\n",
    "* https://medium.com/swlh/a-beginners-guide-to-pytorch-and-its-most-common-used-functions-c07ef56451d1"
   ]
  }
 ],
 "metadata": {
  "kernelspec": {
   "display_name": "Python 3 (ipykernel)",
   "language": "python",
   "name": "python3"
  },
  "language_info": {
   "codemirror_mode": {
    "name": "ipython",
    "version": 3
   },
   "file_extension": ".py",
   "mimetype": "text/x-python",
   "name": "python",
   "nbconvert_exporter": "python",
   "pygments_lexer": "ipython3",
   "version": "3.10.9"
  }
 },
 "nbformat": 4,
 "nbformat_minor": 5
}
